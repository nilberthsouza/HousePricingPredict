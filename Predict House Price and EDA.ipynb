{
  "nbformat": 4,
  "nbformat_minor": 0,
  "metadata": {
    "kernelspec": {
      "display_name": "Python 3",
      "language": "python",
      "name": "python3"
    },
    "language_info": {
      "codemirror_mode": {
        "name": "ipython",
        "version": 3
      },
      "file_extension": ".py",
      "mimetype": "text/x-python",
      "name": "python",
      "nbconvert_exporter": "python",
      "pygments_lexer": "ipython3",
      "version": "3.7.4"
    },
    "colab": {
      "name": "Predict House Price and EDA.ipynb",
      "provenance": []
    }
  },
  "cells": [
    {
      "cell_type": "code",
      "metadata": {
        "id": "qGCpHcxATW4_",
        "colab_type": "code",
        "colab": {}
      },
      "source": [
        "#pandas para o processamento dos dados, nesse caso os dataset's estão em *.csv e pandas lida bem com esse formato\n",
        "#numpy para toda a algebra linear \n",
        "#Matplotlib e Seaborn para plotar os graficos na exploração de dados\n",
        "import pandas as pd\n",
        "import numpy as np\n",
        "import matplotlib.pyplot as plt\n",
        "import seaborn as sns\n",
        "\n",
        "#As bibliotecas do scikit learn ja tem nomes bem sugestivas, basta checar a documentação. Porem são essas libs responsaveis em treinar o modelo\n",
        "from sklearn.model_selection import cross_val_score, train_test_split\n",
        "from sklearn.preprocessing import StandardScaler\n",
        "from sklearn.linear_model import LinearRegression, RidgeCV, LassoCV, ElasticNetCV\n",
        "from sklearn.metrics import make_scorer\n",
        "from sklearn.metrics import mean_squared_error\n",
        "from sklearn.model_selection import KFold\n",
        "\n"
      ],
      "execution_count": 0,
      "outputs": []
    },
    {
      "cell_type": "code",
      "metadata": {
        "id": "bMNvTMQiTW5L",
        "colab_type": "code",
        "colab": {}
      },
      "source": [
        "#Começamos transformando os 2 datasets dispibilizados em dataframes para manipularmos e processar os dados\n",
        "train = pd.read_csv('https://raw.githubusercontent.com/nilberthsouza/HousePricingPredict/master/train.csv')\n",
        "test = pd.read_csv('https://raw.githubusercontent.com/nilberthsouza/HousePricingPredict/master/test.csv')\n"
      ],
      "execution_count": 0,
      "outputs": []
    },
    {
      "cell_type": "code",
      "metadata": {
        "id": "ft_ZGo6cTW5U",
        "colab_type": "code",
        "colab": {},
        "outputId": "3527b9c4-0996-4f64-81e4-aa0bc5a50550"
      },
      "source": [
        "#Essas são as colunas do dataset train\n",
        "train.columns"
      ],
      "execution_count": 0,
      "outputs": [
        {
          "output_type": "execute_result",
          "data": {
            "text/plain": [
              "Index(['Id', 'MSSubClass', 'MSZoning', 'LotFrontage', 'LotArea', 'Street',\n",
              "       'Alley', 'LotShape', 'LandContour', 'Utilities', 'LotConfig',\n",
              "       'LandSlope', 'Neighborhood', 'Condition1', 'Condition2', 'BldgType',\n",
              "       'HouseStyle', 'OverallQual', 'OverallCond', 'YearBuilt', 'YearRemodAdd',\n",
              "       'RoofStyle', 'RoofMatl', 'Exterior1st', 'Exterior2nd', 'MasVnrType',\n",
              "       'MasVnrArea', 'ExterQual', 'ExterCond', 'Foundation', 'BsmtQual',\n",
              "       'BsmtCond', 'BsmtExposure', 'BsmtFinType1', 'BsmtFinSF1',\n",
              "       'BsmtFinType2', 'BsmtFinSF2', 'BsmtUnfSF', 'TotalBsmtSF', 'Heating',\n",
              "       'HeatingQC', 'CentralAir', 'Electrical', '1stFlrSF', '2ndFlrSF',\n",
              "       'LowQualFinSF', 'GrLivArea', 'BsmtFullBath', 'BsmtHalfBath', 'FullBath',\n",
              "       'HalfBath', 'BedroomAbvGr', 'KitchenAbvGr', 'KitchenQual',\n",
              "       'TotRmsAbvGrd', 'Functional', 'Fireplaces', 'FireplaceQu', 'GarageType',\n",
              "       'GarageYrBlt', 'GarageFinish', 'GarageCars', 'GarageArea', 'GarageQual',\n",
              "       'GarageCond', 'PavedDrive', 'WoodDeckSF', 'OpenPorchSF',\n",
              "       'EnclosedPorch', '3SsnPorch', 'ScreenPorch', 'PoolArea', 'PoolQC',\n",
              "       'Fence', 'MiscFeature', 'MiscVal', 'MoSold', 'YrSold', 'SaleType',\n",
              "       'SaleCondition', 'SalePrice'],\n",
              "      dtype='object')"
            ]
          },
          "metadata": {
            "tags": []
          },
          "execution_count": 286
        }
      ]
    },
    {
      "cell_type": "code",
      "metadata": {
        "id": "ren_5xd7TW5g",
        "colab_type": "code",
        "colab": {},
        "outputId": "f2fa06ee-460e-44e7-ce8a-5942bebca4bb"
      },
      "source": [
        "train.head()\n"
      ],
      "execution_count": 0,
      "outputs": [
        {
          "output_type": "execute_result",
          "data": {
            "text/html": [
              "<div>\n",
              "<style scoped>\n",
              "    .dataframe tbody tr th:only-of-type {\n",
              "        vertical-align: middle;\n",
              "    }\n",
              "\n",
              "    .dataframe tbody tr th {\n",
              "        vertical-align: top;\n",
              "    }\n",
              "\n",
              "    .dataframe thead th {\n",
              "        text-align: right;\n",
              "    }\n",
              "</style>\n",
              "<table border=\"1\" class=\"dataframe\">\n",
              "  <thead>\n",
              "    <tr style=\"text-align: right;\">\n",
              "      <th></th>\n",
              "      <th>Id</th>\n",
              "      <th>MSSubClass</th>\n",
              "      <th>MSZoning</th>\n",
              "      <th>LotFrontage</th>\n",
              "      <th>LotArea</th>\n",
              "      <th>Street</th>\n",
              "      <th>Alley</th>\n",
              "      <th>LotShape</th>\n",
              "      <th>LandContour</th>\n",
              "      <th>Utilities</th>\n",
              "      <th>...</th>\n",
              "      <th>PoolArea</th>\n",
              "      <th>PoolQC</th>\n",
              "      <th>Fence</th>\n",
              "      <th>MiscFeature</th>\n",
              "      <th>MiscVal</th>\n",
              "      <th>MoSold</th>\n",
              "      <th>YrSold</th>\n",
              "      <th>SaleType</th>\n",
              "      <th>SaleCondition</th>\n",
              "      <th>SalePrice</th>\n",
              "    </tr>\n",
              "  </thead>\n",
              "  <tbody>\n",
              "    <tr>\n",
              "      <td>0</td>\n",
              "      <td>1</td>\n",
              "      <td>60</td>\n",
              "      <td>RL</td>\n",
              "      <td>65.0</td>\n",
              "      <td>8450</td>\n",
              "      <td>Pave</td>\n",
              "      <td>NaN</td>\n",
              "      <td>Reg</td>\n",
              "      <td>Lvl</td>\n",
              "      <td>AllPub</td>\n",
              "      <td>...</td>\n",
              "      <td>0</td>\n",
              "      <td>NaN</td>\n",
              "      <td>NaN</td>\n",
              "      <td>NaN</td>\n",
              "      <td>0</td>\n",
              "      <td>2</td>\n",
              "      <td>2008</td>\n",
              "      <td>WD</td>\n",
              "      <td>Normal</td>\n",
              "      <td>208500</td>\n",
              "    </tr>\n",
              "    <tr>\n",
              "      <td>1</td>\n",
              "      <td>2</td>\n",
              "      <td>20</td>\n",
              "      <td>RL</td>\n",
              "      <td>80.0</td>\n",
              "      <td>9600</td>\n",
              "      <td>Pave</td>\n",
              "      <td>NaN</td>\n",
              "      <td>Reg</td>\n",
              "      <td>Lvl</td>\n",
              "      <td>AllPub</td>\n",
              "      <td>...</td>\n",
              "      <td>0</td>\n",
              "      <td>NaN</td>\n",
              "      <td>NaN</td>\n",
              "      <td>NaN</td>\n",
              "      <td>0</td>\n",
              "      <td>5</td>\n",
              "      <td>2007</td>\n",
              "      <td>WD</td>\n",
              "      <td>Normal</td>\n",
              "      <td>181500</td>\n",
              "    </tr>\n",
              "    <tr>\n",
              "      <td>2</td>\n",
              "      <td>3</td>\n",
              "      <td>60</td>\n",
              "      <td>RL</td>\n",
              "      <td>68.0</td>\n",
              "      <td>11250</td>\n",
              "      <td>Pave</td>\n",
              "      <td>NaN</td>\n",
              "      <td>IR1</td>\n",
              "      <td>Lvl</td>\n",
              "      <td>AllPub</td>\n",
              "      <td>...</td>\n",
              "      <td>0</td>\n",
              "      <td>NaN</td>\n",
              "      <td>NaN</td>\n",
              "      <td>NaN</td>\n",
              "      <td>0</td>\n",
              "      <td>9</td>\n",
              "      <td>2008</td>\n",
              "      <td>WD</td>\n",
              "      <td>Normal</td>\n",
              "      <td>223500</td>\n",
              "    </tr>\n",
              "    <tr>\n",
              "      <td>3</td>\n",
              "      <td>4</td>\n",
              "      <td>70</td>\n",
              "      <td>RL</td>\n",
              "      <td>60.0</td>\n",
              "      <td>9550</td>\n",
              "      <td>Pave</td>\n",
              "      <td>NaN</td>\n",
              "      <td>IR1</td>\n",
              "      <td>Lvl</td>\n",
              "      <td>AllPub</td>\n",
              "      <td>...</td>\n",
              "      <td>0</td>\n",
              "      <td>NaN</td>\n",
              "      <td>NaN</td>\n",
              "      <td>NaN</td>\n",
              "      <td>0</td>\n",
              "      <td>2</td>\n",
              "      <td>2006</td>\n",
              "      <td>WD</td>\n",
              "      <td>Abnorml</td>\n",
              "      <td>140000</td>\n",
              "    </tr>\n",
              "    <tr>\n",
              "      <td>4</td>\n",
              "      <td>5</td>\n",
              "      <td>60</td>\n",
              "      <td>RL</td>\n",
              "      <td>84.0</td>\n",
              "      <td>14260</td>\n",
              "      <td>Pave</td>\n",
              "      <td>NaN</td>\n",
              "      <td>IR1</td>\n",
              "      <td>Lvl</td>\n",
              "      <td>AllPub</td>\n",
              "      <td>...</td>\n",
              "      <td>0</td>\n",
              "      <td>NaN</td>\n",
              "      <td>NaN</td>\n",
              "      <td>NaN</td>\n",
              "      <td>0</td>\n",
              "      <td>12</td>\n",
              "      <td>2008</td>\n",
              "      <td>WD</td>\n",
              "      <td>Normal</td>\n",
              "      <td>250000</td>\n",
              "    </tr>\n",
              "  </tbody>\n",
              "</table>\n",
              "<p>5 rows × 81 columns</p>\n",
              "</div>"
            ],
            "text/plain": [
              "   Id  MSSubClass MSZoning  LotFrontage  LotArea Street Alley LotShape  \\\n",
              "0   1          60       RL         65.0     8450   Pave   NaN      Reg   \n",
              "1   2          20       RL         80.0     9600   Pave   NaN      Reg   \n",
              "2   3          60       RL         68.0    11250   Pave   NaN      IR1   \n",
              "3   4          70       RL         60.0     9550   Pave   NaN      IR1   \n",
              "4   5          60       RL         84.0    14260   Pave   NaN      IR1   \n",
              "\n",
              "  LandContour Utilities  ... PoolArea PoolQC Fence MiscFeature MiscVal MoSold  \\\n",
              "0         Lvl    AllPub  ...        0    NaN   NaN         NaN       0      2   \n",
              "1         Lvl    AllPub  ...        0    NaN   NaN         NaN       0      5   \n",
              "2         Lvl    AllPub  ...        0    NaN   NaN         NaN       0      9   \n",
              "3         Lvl    AllPub  ...        0    NaN   NaN         NaN       0      2   \n",
              "4         Lvl    AllPub  ...        0    NaN   NaN         NaN       0     12   \n",
              "\n",
              "  YrSold  SaleType  SaleCondition  SalePrice  \n",
              "0   2008        WD         Normal     208500  \n",
              "1   2007        WD         Normal     181500  \n",
              "2   2008        WD         Normal     223500  \n",
              "3   2006        WD        Abnorml     140000  \n",
              "4   2008        WD         Normal     250000  \n",
              "\n",
              "[5 rows x 81 columns]"
            ]
          },
          "metadata": {
            "tags": []
          },
          "execution_count": 287
        }
      ]
    },
    {
      "cell_type": "code",
      "metadata": {
        "id": "uKdT08xETW5p",
        "colab_type": "code",
        "colab": {}
      },
      "source": [
        "Id = test['Id']\n"
      ],
      "execution_count": 0,
      "outputs": []
    },
    {
      "cell_type": "code",
      "metadata": {
        "id": "RWBxdRLETW5y",
        "colab_type": "code",
        "colab": {},
        "outputId": "c0f0a5d4-e16b-4b02-a2f1-435ab5657528"
      },
      "source": [
        "#Matrix de correlação\n",
        "\n",
        "correlatedMatrix = train.corr()\n",
        "mostCorrelatedFeatures = correlatedMatrix.index[abs(correlatedMatrix[\"SalePrice\"])>0.5]\n",
        "plt.figure(figsize=(10,10))\n",
        "g = sns.heatmap(train[mostCorrelatedFeatures].corr(),annot=True,cmap=\"RdYlGn\")\n"
      ],
      "execution_count": 0,
      "outputs": [
        {
          "output_type": "display_data",
          "data": {
            "image/png": "[encoded data removed]",
            "text/plain": [
              "<Figure size 720x720 with 2 Axes>"
            ]
          },
          "metadata": {
            "tags": [],
            "needs_background": "light"
          }
        }
      ]
    },
    {
      "cell_type": "code",
      "metadata": {
        "id": "loTKEpgmTW57",
        "colab_type": "code",
        "colab": {},
        "outputId": "be1bb9c0-c920-43fc-9945-eea7adbc02cf"
      },
      "source": [
        "#como podemos notar overallQual tem alta correlação com SalePrice, vejamos como é o grafico\n",
        "sns.barplot(train.OverallQual,train.SalePrice)"
      ],
      "execution_count": 0,
      "outputs": [
        {
          "output_type": "execute_result",
          "data": {
            "text/plain": [
              "<matplotlib.axes._subplots.AxesSubplot at 0x7fdce13efa90>"
            ]
          },
          "metadata": {
            "tags": []
          },
          "execution_count": 290
        },
        {
          "output_type": "display_data",
          "data": {
            "image/png": "[encoded data removed]",
            "text/plain": [
              "<Figure size 432x288 with 1 Axes>"
            ]
          },
          "metadata": {
            "tags": [],
            "needs_background": "light"
          }
        }
      ]
    },
    {
      "cell_type": "code",
      "metadata": {
        "id": "7N1eki3WTW6F",
        "colab_type": "code",
        "colab": {},
        "outputId": "b56eb5eb-f264-414f-e014-4a67f38573d2"
      },
      "source": [
        "from scipy import stats\n",
        "from scipy.stats import norm, skew\n",
        "\n",
        "#vamos plotar o grafico de SalePrice e comparar com a curva normal\n",
        "\n",
        "sns.distplot(train.SalePrice,fit=norm)"
      ],
      "execution_count": 0,
      "outputs": [
        {
          "output_type": "execute_result",
          "data": {
            "text/plain": [
              "<matplotlib.axes._subplots.AxesSubplot at 0x7fdce1374d90>"
            ]
          },
          "metadata": {
            "tags": []
          },
          "execution_count": 291
        },
        {
          "output_type": "display_data",
          "data": {
            "image/png": "[encoded data removed]",
            "text/plain": [
              "<Figure size 432x288 with 1 Axes>"
            ]
          },
          "metadata": {
            "tags": [],
            "needs_background": "light"
          }
        }
      ]
    },
    {
      "cell_type": "code",
      "metadata": {
        "id": "6CAKY7XfTW6O",
        "colab_type": "code",
        "colab": {},
        "outputId": "c31c74f4-e2a4-4424-8b48-b7db3aaf0a48"
      },
      "source": [
        "#Mu e sigma da curva normal podem ser encontradas da forma abaixo\n",
        "(mu,sigma) =norm.fit(train.SalePrice)\n",
        "print(\"The parameter mu is {} and the parameter sigma is {}\".format(mu,sigma))"
      ],
      "execution_count": 0,
      "outputs": [
        {
          "output_type": "stream",
          "text": [
            "The parameter mu is 180921.19589041095 and the parameter sigma is 79415.29188606751\n"
          ],
          "name": "stdout"
        }
      ]
    },
    {
      "cell_type": "code",
      "metadata": {
        "id": "q9lrpiLATW6W",
        "colab_type": "code",
        "colab": {},
        "outputId": "2bc0b469-3392-469d-8c10-e4139dfa448f"
      },
      "source": [
        "#alguns outliers que devem ser tratados posteriormente\n",
        "plt.scatter(train.SalePrice,train.GrLivArea)"
      ],
      "execution_count": 0,
      "outputs": [
        {
          "output_type": "execute_result",
          "data": {
            "text/plain": [
              "<matplotlib.collections.PathCollection at 0x7fdce1360bd0>"
            ]
          },
          "metadata": {
            "tags": []
          },
          "execution_count": 293
        },
        {
          "output_type": "display_data",
          "data": {
            "image/png": "[encoded data removed]",
            "text/plain": [
              "<Figure size 432x288 with 1 Axes>"
            ]
          },
          "metadata": {
            "tags": [],
            "needs_background": "light"
          }
        }
      ]
    },
    {
      "cell_type": "code",
      "metadata": {
        "id": "v8dwiTkNTW6e",
        "colab_type": "code",
        "colab": {},
        "outputId": "19d3e68a-0b7e-4237-ac1d-fe2fb910a2ba"
      },
      "source": [
        "#Checamos quantos campos nulos temos no dataset train\n",
        "train.isnull().sum().sort_values(ascending=False)"
      ],
      "execution_count": 0,
      "outputs": [
        {
          "output_type": "execute_result",
          "data": {
            "text/plain": [
              "PoolQC           1453\n",
              "MiscFeature      1406\n",
              "Alley            1369\n",
              "Fence            1179\n",
              "FireplaceQu       690\n",
              "                 ... \n",
              "CentralAir          0\n",
              "SaleCondition       0\n",
              "Heating             0\n",
              "TotalBsmtSF         0\n",
              "Id                  0\n",
              "Length: 81, dtype: int64"
            ]
          },
          "metadata": {
            "tags": []
          },
          "execution_count": 294
        }
      ]
    },
    {
      "cell_type": "code",
      "metadata": {
        "id": "-_10uzDKTW6o",
        "colab_type": "code",
        "colab": {},
        "outputId": "8e5d0c8e-a577-4012-aabd-8cb0ebbd30c4"
      },
      "source": [
        "#Vejamos as correlações do mais correlato ao menos correlato\n",
        "correlation = train.corr()\n",
        "correlation.sort_values([\"SalePrice\"],ascending=False,inplace=True)\n",
        "correlation.SalePrice"
      ],
      "execution_count": 0,
      "outputs": [
        {
          "output_type": "execute_result",
          "data": {
            "text/plain": [
              "SalePrice        1.000000\n",
              "OverallQual      0.790982\n",
              "GrLivArea        0.708624\n",
              "GarageCars       0.640409\n",
              "GarageArea       0.623431\n",
              "TotalBsmtSF      0.613581\n",
              "1stFlrSF         0.605852\n",
              "FullBath         0.560664\n",
              "TotRmsAbvGrd     0.533723\n",
              "YearBuilt        0.522897\n",
              "YearRemodAdd     0.507101\n",
              "GarageYrBlt      0.486362\n",
              "MasVnrArea       0.477493\n",
              "Fireplaces       0.466929\n",
              "BsmtFinSF1       0.386420\n",
              "LotFrontage      0.351799\n",
              "WoodDeckSF       0.324413\n",
              "2ndFlrSF         0.319334\n",
              "OpenPorchSF      0.315856\n",
              "HalfBath         0.284108\n",
              "LotArea          0.263843\n",
              "BsmtFullBath     0.227122\n",
              "BsmtUnfSF        0.214479\n",
              "BedroomAbvGr     0.168213\n",
              "ScreenPorch      0.111447\n",
              "PoolArea         0.092404\n",
              "MoSold           0.046432\n",
              "3SsnPorch        0.044584\n",
              "BsmtFinSF2      -0.011378\n",
              "BsmtHalfBath    -0.016844\n",
              "MiscVal         -0.021190\n",
              "Id              -0.021917\n",
              "LowQualFinSF    -0.025606\n",
              "YrSold          -0.028923\n",
              "OverallCond     -0.077856\n",
              "MSSubClass      -0.084284\n",
              "EnclosedPorch   -0.128578\n",
              "KitchenAbvGr    -0.135907\n",
              "Name: SalePrice, dtype: float64"
            ]
          },
          "metadata": {
            "tags": []
          },
          "execution_count": 295
        }
      ]
    },
    {
      "cell_type": "code",
      "metadata": {
        "id": "phqH79ACTW6y",
        "colab_type": "code",
        "colab": {}
      },
      "source": [
        "#Agora separaremos de SalePrice em uma variavel Y \n",
        "y = train['SalePrice'].copy()\n",
        "\n",
        "#Excluimos o dado do dataframe train \n",
        "train.drop(['SalePrice'],axis=1,inplace=True)\n",
        "\n",
        "Id = test['Id']\n",
        "\n",
        "train_index = train.shape[0]\n",
        "test_index = test.shape[0]\n",
        "\n",
        "full = pd.concat(objs=[train,test],axis=0).reset_index(drop=True)\n"
      ],
      "execution_count": 0,
      "outputs": []
    },
    {
      "cell_type": "code",
      "metadata": {
        "id": "aYwBqxz7TW66",
        "colab_type": "code",
        "colab": {},
        "outputId": "23f0017a-aa14-4306-e20f-330299d7d0b3"
      },
      "source": [
        "#Vamos armazer na variavel categorycalValues todos os nomes de colunas de dados categoricos\n",
        "categorycalValues = full.select_dtypes(include=['object']).columns\n",
        "\n",
        "categorycalValues"
      ],
      "execution_count": 0,
      "outputs": [
        {
          "output_type": "execute_result",
          "data": {
            "text/plain": [
              "Index(['MSZoning', 'Street', 'Alley', 'LotShape', 'LandContour', 'Utilities',\n",
              "       'LotConfig', 'LandSlope', 'Neighborhood', 'Condition1', 'Condition2',\n",
              "       'BldgType', 'HouseStyle', 'RoofStyle', 'RoofMatl', 'Exterior1st',\n",
              "       'Exterior2nd', 'MasVnrType', 'ExterQual', 'ExterCond', 'Foundation',\n",
              "       'BsmtQual', 'BsmtCond', 'BsmtExposure', 'BsmtFinType1', 'BsmtFinType2',\n",
              "       'Heating', 'HeatingQC', 'CentralAir', 'Electrical', 'KitchenQual',\n",
              "       'Functional', 'FireplaceQu', 'GarageType', 'GarageFinish', 'GarageQual',\n",
              "       'GarageCond', 'PavedDrive', 'PoolQC', 'Fence', 'MiscFeature',\n",
              "       'SaleType', 'SaleCondition'],\n",
              "      dtype='object')"
            ]
          },
          "metadata": {
            "tags": []
          },
          "execution_count": 297
        }
      ]
    },
    {
      "cell_type": "code",
      "metadata": {
        "id": "ivMfyLC9TW7D",
        "colab_type": "code",
        "colab": {},
        "outputId": "35bf106a-4f71-442a-ef1b-3490c4468816"
      },
      "source": [
        "#Armazenamos em numerical values todos os nomes de colunas numericas\n",
        "numericalValues = full.select_dtypes(exclude=['object']).columns\n",
        "numericalValues"
      ],
      "execution_count": 0,
      "outputs": [
        {
          "output_type": "execute_result",
          "data": {
            "text/plain": [
              "Index(['Id', 'MSSubClass', 'LotFrontage', 'LotArea', 'OverallQual',\n",
              "       'OverallCond', 'YearBuilt', 'YearRemodAdd', 'MasVnrArea', 'BsmtFinSF1',\n",
              "       'BsmtFinSF2', 'BsmtUnfSF', 'TotalBsmtSF', '1stFlrSF', '2ndFlrSF',\n",
              "       'LowQualFinSF', 'GrLivArea', 'BsmtFullBath', 'BsmtHalfBath', 'FullBath',\n",
              "       'HalfBath', 'BedroomAbvGr', 'KitchenAbvGr', 'TotRmsAbvGrd',\n",
              "       'Fireplaces', 'GarageYrBlt', 'GarageCars', 'GarageArea', 'WoodDeckSF',\n",
              "       'OpenPorchSF', 'EnclosedPorch', '3SsnPorch', 'ScreenPorch', 'PoolArea',\n",
              "       'MiscVal', 'MoSold', 'YrSold'],\n",
              "      dtype='object')"
            ]
          },
          "metadata": {
            "tags": []
          },
          "execution_count": 298
        }
      ]
    },
    {
      "cell_type": "code",
      "metadata": {
        "id": "ZFFmoj0iTW7O",
        "colab_type": "code",
        "colab": {}
      },
      "source": [
        "#Criamos 2 novos dataframes \n",
        "\n",
        "#apenas variveis numericas\n",
        "Numerical = full[numericalValues]\n",
        "\n",
        "#apenas variaveis categoricas\n",
        "Categorycal = full[categorycalValues]\n",
        "\n",
        "#isso faz com que tratemos cada tipo de dado de forma isolada."
      ],
      "execution_count": 0,
      "outputs": []
    },
    {
      "cell_type": "code",
      "metadata": {
        "id": "T0-piRA7TW7U",
        "colab_type": "code",
        "colab": {},
        "outputId": "d01755ff-8ed2-4782-ae0e-4812dbc78d53"
      },
      "source": [
        "#imprimimos quantos campos tem valores nulos\n",
        "print(Numerical.isnull().values.sum())\n",
        "\n",
        "#substituimos esses campos pela media de todos os campos\n",
        "Numerical = Numerical.fillna(Numerical.mean())\n",
        "\n",
        "#imprimimos quanto campos com valores nulos sobraram\n",
        "print(Numerical.isnull().values.sum())"
      ],
      "execution_count": 0,
      "outputs": [
        {
          "output_type": "stream",
          "text": [
            "678\n",
            "0\n"
          ],
          "name": "stdout"
        }
      ]
    },
    {
      "cell_type": "code",
      "metadata": {
        "id": "ITaakNiqTW7b",
        "colab_type": "code",
        "colab": {},
        "outputId": "6045abf6-b3f9-4b0f-c8ee-c26bd79860e2"
      },
      "source": [
        "skewness = Numerical.apply(lambda x: skew(x))\n",
        "skewness.sort_values(ascending=False)"
      ],
      "execution_count": 0,
      "outputs": [
        {
          "output_type": "execute_result",
          "data": {
            "text/plain": [
              "MiscVal          21.947195\n",
              "PoolArea         16.898328\n",
              "LotArea          12.822431\n",
              "LowQualFinSF     12.088761\n",
              "3SsnPorch        11.376065\n",
              "KitchenAbvGr      4.302254\n",
              "BsmtFinSF2        4.146034\n",
              "EnclosedPorch     4.003891\n",
              "ScreenPorch       3.946694\n",
              "BsmtHalfBath      3.931343\n",
              "MasVnrArea        2.611549\n",
              "OpenPorchSF       2.535114\n",
              "WoodDeckSF        1.842433\n",
              "LotFrontage       1.645574\n",
              "1stFlrSF          1.469604\n",
              "BsmtFinSF1        1.425233\n",
              "MSSubClass        1.375457\n",
              "GrLivArea         1.269358\n",
              "TotalBsmtSF       1.162484\n",
              "BsmtUnfSF         0.919508\n",
              "2ndFlrSF          0.861675\n",
              "TotRmsAbvGrd      0.758367\n",
              "Fireplaces        0.733495\n",
              "HalfBath          0.694566\n",
              "BsmtFullBath      0.623955\n",
              "OverallCond       0.570312\n",
              "BedroomAbvGr      0.326324\n",
              "GarageArea        0.241218\n",
              "OverallQual       0.197110\n",
              "MoSold            0.195884\n",
              "FullBath          0.167606\n",
              "YrSold            0.132399\n",
              "Id                0.000000\n",
              "GarageCars       -0.218298\n",
              "GarageYrBlt      -0.392790\n",
              "YearRemodAdd     -0.451020\n",
              "YearBuilt        -0.599806\n",
              "dtype: float64"
            ]
          },
          "metadata": {
            "tags": []
          },
          "execution_count": 301
        }
      ]
    },
    {
      "cell_type": "code",
      "metadata": {
        "id": "eZxfgS1eTW7k",
        "colab_type": "code",
        "colab": {},
        "outputId": "9ccce157-f2c0-44a6-a8ef-45f767f44045"
      },
      "source": [
        "skewness = skewness[abs(skewness)>0.5]\n",
        "skewness.index"
      ],
      "execution_count": 0,
      "outputs": [
        {
          "output_type": "execute_result",
          "data": {
            "text/plain": [
              "Index(['MSSubClass', 'LotFrontage', 'LotArea', 'OverallCond', 'YearBuilt',\n",
              "       'MasVnrArea', 'BsmtFinSF1', 'BsmtFinSF2', 'BsmtUnfSF', 'TotalBsmtSF',\n",
              "       '1stFlrSF', '2ndFlrSF', 'LowQualFinSF', 'GrLivArea', 'BsmtFullBath',\n",
              "       'BsmtHalfBath', 'HalfBath', 'KitchenAbvGr', 'TotRmsAbvGrd',\n",
              "       'Fireplaces', 'WoodDeckSF', 'OpenPorchSF', 'EnclosedPorch', '3SsnPorch',\n",
              "       'ScreenPorch', 'PoolArea', 'MiscVal'],\n",
              "      dtype='object')"
            ]
          },
          "metadata": {
            "tags": []
          },
          "execution_count": 302
        }
      ]
    },
    {
      "cell_type": "code",
      "metadata": {
        "id": "lszgbm6MTW7q",
        "colab_type": "code",
        "colab": {},
        "outputId": "68580f55-70a6-4345-c8cd-8a1e307dfd1f"
      },
      "source": [
        "skew_features = train[skewness.index]\n",
        "skew_features.columns"
      ],
      "execution_count": 0,
      "outputs": [
        {
          "output_type": "execute_result",
          "data": {
            "text/plain": [
              "Index(['MSSubClass', 'LotFrontage', 'LotArea', 'OverallCond', 'YearBuilt',\n",
              "       'MasVnrArea', 'BsmtFinSF1', 'BsmtFinSF2', 'BsmtUnfSF', 'TotalBsmtSF',\n",
              "       '1stFlrSF', '2ndFlrSF', 'LowQualFinSF', 'GrLivArea', 'BsmtFullBath',\n",
              "       'BsmtHalfBath', 'HalfBath', 'KitchenAbvGr', 'TotRmsAbvGrd',\n",
              "       'Fireplaces', 'WoodDeckSF', 'OpenPorchSF', 'EnclosedPorch', '3SsnPorch',\n",
              "       'ScreenPorch', 'PoolArea', 'MiscVal'],\n",
              "      dtype='object')"
            ]
          },
          "metadata": {
            "tags": []
          },
          "execution_count": 303
        }
      ]
    },
    {
      "cell_type": "code",
      "metadata": {
        "id": "WbgEjqkjTW7x",
        "colab_type": "code",
        "colab": {},
        "outputId": "274af109-3d6a-470c-c2b3-97a4508f6d40"
      },
      "source": [
        "#resolvese a skewness de uma feature aplicando uma transformação logaritimica\n",
        "skew_features = np.log1p(skew_features)\n"
      ],
      "execution_count": 0,
      "outputs": [
        {
          "output_type": "stream",
          "text": [
            "/home/hironu/anaconda3/lib/python3.7/site-packages/ipykernel_launcher.py:2: RuntimeWarning: invalid value encountered in log1p\n",
            "  \n"
          ],
          "name": "stderr"
        }
      ]
    },
    {
      "cell_type": "code",
      "metadata": {
        "id": "8k_XU329TW73",
        "colab_type": "code",
        "colab": {},
        "outputId": "1d3a3e28-48e0-4811-e53c-2b6833a47ea9"
      },
      "source": [
        "Categorycal.shape"
      ],
      "execution_count": 0,
      "outputs": [
        {
          "output_type": "execute_result",
          "data": {
            "text/plain": [
              "(2919, 43)"
            ]
          },
          "metadata": {
            "tags": []
          },
          "execution_count": 305
        }
      ]
    },
    {
      "cell_type": "code",
      "metadata": {
        "id": "Nqq-dxvATW7-",
        "colab_type": "code",
        "colab": {},
        "outputId": "d5d9b60d-94f7-46fb-86f6-0ec1bff5be9c"
      },
      "source": [
        "#transformamos as colunas categoricas em dados numericos atraves do one hot enconding\n",
        "Categorycal = pd.get_dummies(Categorycal)\n",
        "Categorycal.shape\n"
      ],
      "execution_count": 0,
      "outputs": [
        {
          "output_type": "execute_result",
          "data": {
            "text/plain": [
              "(2919, 252)"
            ]
          },
          "metadata": {
            "tags": []
          },
          "execution_count": 306
        }
      ]
    },
    {
      "cell_type": "code",
      "metadata": {
        "id": "Z93LP6KATW8F",
        "colab_type": "code",
        "colab": {},
        "outputId": "db3f88a3-2fdf-4986-a546-b77b7d23a2e9"
      },
      "source": [
        "Categorycal.head()"
      ],
      "execution_count": 0,
      "outputs": [
        {
          "output_type": "execute_result",
          "data": {
            "text/html": [
              "<div>\n",
              "<style scoped>\n",
              "    .dataframe tbody tr th:only-of-type {\n",
              "        vertical-align: middle;\n",
              "    }\n",
              "\n",
              "    .dataframe tbody tr th {\n",
              "        vertical-align: top;\n",
              "    }\n",
              "\n",
              "    .dataframe thead th {\n",
              "        text-align: right;\n",
              "    }\n",
              "</style>\n",
              "<table border=\"1\" class=\"dataframe\">\n",
              "  <thead>\n",
              "    <tr style=\"text-align: right;\">\n",
              "      <th></th>\n",
              "      <th>MSZoning_C (all)</th>\n",
              "      <th>MSZoning_FV</th>\n",
              "      <th>MSZoning_RH</th>\n",
              "      <th>MSZoning_RL</th>\n",
              "      <th>MSZoning_RM</th>\n",
              "      <th>Street_Grvl</th>\n",
              "      <th>Street_Pave</th>\n",
              "      <th>Alley_Grvl</th>\n",
              "      <th>Alley_Pave</th>\n",
              "      <th>LotShape_IR1</th>\n",
              "      <th>...</th>\n",
              "      <th>SaleType_ConLw</th>\n",
              "      <th>SaleType_New</th>\n",
              "      <th>SaleType_Oth</th>\n",
              "      <th>SaleType_WD</th>\n",
              "      <th>SaleCondition_Abnorml</th>\n",
              "      <th>SaleCondition_AdjLand</th>\n",
              "      <th>SaleCondition_Alloca</th>\n",
              "      <th>SaleCondition_Family</th>\n",
              "      <th>SaleCondition_Normal</th>\n",
              "      <th>SaleCondition_Partial</th>\n",
              "    </tr>\n",
              "  </thead>\n",
              "  <tbody>\n",
              "    <tr>\n",
              "      <td>0</td>\n",
              "      <td>0</td>\n",
              "      <td>0</td>\n",
              "      <td>0</td>\n",
              "      <td>1</td>\n",
              "      <td>0</td>\n",
              "      <td>0</td>\n",
              "      <td>1</td>\n",
              "      <td>0</td>\n",
              "      <td>0</td>\n",
              "      <td>0</td>\n",
              "      <td>...</td>\n",
              "      <td>0</td>\n",
              "      <td>0</td>\n",
              "      <td>0</td>\n",
              "      <td>1</td>\n",
              "      <td>0</td>\n",
              "      <td>0</td>\n",
              "      <td>0</td>\n",
              "      <td>0</td>\n",
              "      <td>1</td>\n",
              "      <td>0</td>\n",
              "    </tr>\n",
              "    <tr>\n",
              "      <td>1</td>\n",
              "      <td>0</td>\n",
              "      <td>0</td>\n",
              "      <td>0</td>\n",
              "      <td>1</td>\n",
              "      <td>0</td>\n",
              "      <td>0</td>\n",
              "      <td>1</td>\n",
              "      <td>0</td>\n",
              "      <td>0</td>\n",
              "      <td>0</td>\n",
              "      <td>...</td>\n",
              "      <td>0</td>\n",
              "      <td>0</td>\n",
              "      <td>0</td>\n",
              "      <td>1</td>\n",
              "      <td>0</td>\n",
              "      <td>0</td>\n",
              "      <td>0</td>\n",
              "      <td>0</td>\n",
              "      <td>1</td>\n",
              "      <td>0</td>\n",
              "    </tr>\n",
              "    <tr>\n",
              "      <td>2</td>\n",
              "      <td>0</td>\n",
              "      <td>0</td>\n",
              "      <td>0</td>\n",
              "      <td>1</td>\n",
              "      <td>0</td>\n",
              "      <td>0</td>\n",
              "      <td>1</td>\n",
              "      <td>0</td>\n",
              "      <td>0</td>\n",
              "      <td>1</td>\n",
              "      <td>...</td>\n",
              "      <td>0</td>\n",
              "      <td>0</td>\n",
              "      <td>0</td>\n",
              "      <td>1</td>\n",
              "      <td>0</td>\n",
              "      <td>0</td>\n",
              "      <td>0</td>\n",
              "      <td>0</td>\n",
              "      <td>1</td>\n",
              "      <td>0</td>\n",
              "    </tr>\n",
              "    <tr>\n",
              "      <td>3</td>\n",
              "      <td>0</td>\n",
              "      <td>0</td>\n",
              "      <td>0</td>\n",
              "      <td>1</td>\n",
              "      <td>0</td>\n",
              "      <td>0</td>\n",
              "      <td>1</td>\n",
              "      <td>0</td>\n",
              "      <td>0</td>\n",
              "      <td>1</td>\n",
              "      <td>...</td>\n",
              "      <td>0</td>\n",
              "      <td>0</td>\n",
              "      <td>0</td>\n",
              "      <td>1</td>\n",
              "      <td>1</td>\n",
              "      <td>0</td>\n",
              "      <td>0</td>\n",
              "      <td>0</td>\n",
              "      <td>0</td>\n",
              "      <td>0</td>\n",
              "    </tr>\n",
              "    <tr>\n",
              "      <td>4</td>\n",
              "      <td>0</td>\n",
              "      <td>0</td>\n",
              "      <td>0</td>\n",
              "      <td>1</td>\n",
              "      <td>0</td>\n",
              "      <td>0</td>\n",
              "      <td>1</td>\n",
              "      <td>0</td>\n",
              "      <td>0</td>\n",
              "      <td>1</td>\n",
              "      <td>...</td>\n",
              "      <td>0</td>\n",
              "      <td>0</td>\n",
              "      <td>0</td>\n",
              "      <td>1</td>\n",
              "      <td>0</td>\n",
              "      <td>0</td>\n",
              "      <td>0</td>\n",
              "      <td>0</td>\n",
              "      <td>1</td>\n",
              "      <td>0</td>\n",
              "    </tr>\n",
              "  </tbody>\n",
              "</table>\n",
              "<p>5 rows × 252 columns</p>\n",
              "</div>"
            ],
            "text/plain": [
              "   MSZoning_C (all)  MSZoning_FV  MSZoning_RH  MSZoning_RL  MSZoning_RM  \\\n",
              "0                 0            0            0            1            0   \n",
              "1                 0            0            0            1            0   \n",
              "2                 0            0            0            1            0   \n",
              "3                 0            0            0            1            0   \n",
              "4                 0            0            0            1            0   \n",
              "\n",
              "   Street_Grvl  Street_Pave  Alley_Grvl  Alley_Pave  LotShape_IR1  ...  \\\n",
              "0            0            1           0           0             0  ...   \n",
              "1            0            1           0           0             0  ...   \n",
              "2            0            1           0           0             1  ...   \n",
              "3            0            1           0           0             1  ...   \n",
              "4            0            1           0           0             1  ...   \n",
              "\n",
              "   SaleType_ConLw  SaleType_New  SaleType_Oth  SaleType_WD  \\\n",
              "0               0             0             0            1   \n",
              "1               0             0             0            1   \n",
              "2               0             0             0            1   \n",
              "3               0             0             0            1   \n",
              "4               0             0             0            1   \n",
              "\n",
              "   SaleCondition_Abnorml  SaleCondition_AdjLand  SaleCondition_Alloca  \\\n",
              "0                      0                      0                     0   \n",
              "1                      0                      0                     0   \n",
              "2                      0                      0                     0   \n",
              "3                      1                      0                     0   \n",
              "4                      0                      0                     0   \n",
              "\n",
              "   SaleCondition_Family  SaleCondition_Normal  SaleCondition_Partial  \n",
              "0                     0                     1                      0  \n",
              "1                     0                     1                      0  \n",
              "2                     0                     1                      0  \n",
              "3                     0                     0                      0  \n",
              "4                     0                     1                      0  \n",
              "\n",
              "[5 rows x 252 columns]"
            ]
          },
          "metadata": {
            "tags": []
          },
          "execution_count": 307
        }
      ]
    },
    {
      "cell_type": "code",
      "metadata": {
        "id": "7iNwldFFTW8L",
        "colab_type": "code",
        "colab": {}
      },
      "source": [
        "full = pd.concat([Categorycal, Numerical],axis=1)"
      ],
      "execution_count": 0,
      "outputs": []
    },
    {
      "cell_type": "code",
      "metadata": {
        "id": "apF5P77tTW8V",
        "colab_type": "code",
        "colab": {},
        "outputId": "90cd8eff-6533-4159-962d-ca96a8e6be96"
      },
      "source": [
        "#é possivel notar que haviam 43 colunas categoricas que agora foram transforma em 289 novas colunas com dados numericos\n",
        "#1 ou 0 para cada possibilidade\n",
        "full.shape"
      ],
      "execution_count": 0,
      "outputs": [
        {
          "output_type": "execute_result",
          "data": {
            "text/plain": [
              "(2919, 289)"
            ]
          },
          "metadata": {
            "tags": []
          },
          "execution_count": 309
        }
      ]
    },
    {
      "cell_type": "code",
      "metadata": {
        "id": "QQpKbetFTW8f",
        "colab_type": "code",
        "colab": {}
      },
      "source": [
        "\n",
        "train = full.iloc[:train_index]\n",
        "test = full.iloc[:test_index]"
      ],
      "execution_count": 0,
      "outputs": []
    },
    {
      "cell_type": "code",
      "metadata": {
        "id": "hb1VccwITW8m",
        "colab_type": "code",
        "colab": {}
      },
      "source": [
        ""
      ],
      "execution_count": 0,
      "outputs": []
    },
    {
      "cell_type": "code",
      "metadata": {
        "id": "zwqRr0gaTW8s",
        "colab_type": "code",
        "colab": {}
      },
      "source": [
        "\n",
        "x_train, x_test, y_train,y_test = train_test_split(train,y,test_size=0.3,random_state=0)"
      ],
      "execution_count": 0,
      "outputs": []
    },
    {
      "cell_type": "code",
      "metadata": {
        "id": "J9K_bTg7TW8z",
        "colab_type": "code",
        "colab": {},
        "outputId": "b49845b5-2e11-4bd5-b665-12a40989108f"
      },
      "source": [
        "x_train.shape, x_test.shape, y_train.shape, y_test.shape"
      ],
      "execution_count": 0,
      "outputs": [
        {
          "output_type": "execute_result",
          "data": {
            "text/plain": [
              "((1022, 289), (438, 289), (1022,), (438,))"
            ]
          },
          "metadata": {
            "tags": []
          },
          "execution_count": 312
        }
      ]
    },
    {
      "cell_type": "code",
      "metadata": {
        "id": "ULFEHBBdTW87",
        "colab_type": "code",
        "colab": {}
      },
      "source": [
        "n_folds = 5\n",
        "scorer = make_scorer(mean_squared_error,greater_is_better = False)\n",
        "\n",
        "def rmse_CV_train(model):\n",
        "    kf = KFold(n_folds,shuffle=True,random_state=42).get_n_splits(train.values)\n",
        "    rmse = np.sqrt(-cross_val_score(model,x_train,y_train,scoring =\"neg_mean_squared_error\",cv=kf))\n",
        "    return (rmse)\n",
        "def rmse_CV_test(model):\n",
        "    kf = KFold(n_folds,shuffle=True,random_state=42).get_n_splits(train.values)\n",
        "    rmse = np.sqrt(-cross_val_score(model,x_test,y_test,scoring =\"neg_mean_squared_error\",cv=kf))\n",
        "    return (rmse)"
      ],
      "execution_count": 0,
      "outputs": []
    },
    {
      "cell_type": "code",
      "metadata": {
        "id": "Zm1cBkZSTW9B",
        "colab_type": "code",
        "colab": {},
        "outputId": "16b14de5-6da3-4ce1-b162-3095d4efde9c"
      },
      "source": [
        "#regressão linear sem regularização\n",
        "\n",
        "\n",
        "lr = LinearRegression()\n",
        "lr.fit(x_train,y_train)\n",
        "test_pre = lr.predict(x_test)\n",
        "train_pre = lr.predict(x_train)\n",
        "print('rmse on train',rmse_CV_train(lr).mean())\n",
        "print('rmse on train',rmse_CV_test(lr).mean())"
      ],
      "execution_count": 0,
      "outputs": [
        {
          "output_type": "stream",
          "text": [
            "rmse on train 286710139.46476483\n",
            "rmse on train 57196.551796665204\n"
          ],
          "name": "stdout"
        }
      ]
    },
    {
      "cell_type": "code",
      "metadata": {
        "id": "9_g157F-TW9J",
        "colab_type": "code",
        "colab": {},
        "outputId": "865d8a5a-64a8-4a4d-98b5-35914e3f109a"
      },
      "source": [
        "#plot between predicted values and residuals\n",
        "plt.scatter(train_pre, train_pre - y_train, c = \"blue\",  label = \"Training data\")\n",
        "plt.scatter(test_pre,test_pre - y_test, c = \"black\",  label = \"Validation data\")\n",
        "plt.title(\"Linear regression\")\n",
        "plt.xlabel(\"Predicted values\")\n",
        "plt.ylabel(\"Residuals\")\n",
        "plt.legend(loc = \"upper left\")\n",
        "plt.hlines(y = 0, xmin = 10.5, xmax = 13.5, color = \"red\")\n",
        "plt.show()"
      ],
      "execution_count": 0,
      "outputs": [
        {
          "output_type": "display_data",
          "data": {
            "image/png": "[encoded data removed]",
            "text/plain": [
              "<Figure size 432x288 with 1 Axes>"
            ]
          },
          "metadata": {
            "tags": [],
            "needs_background": "light"
          }
        }
      ]
    },
    {
      "cell_type": "code",
      "metadata": {
        "id": "BxbRU6pKTW9R",
        "colab_type": "code",
        "colab": {},
        "outputId": "9009b206-e477-4031-958a-fb020819f52b"
      },
      "source": [
        "train.shape, y.shape , test.shape"
      ],
      "execution_count": 0,
      "outputs": [
        {
          "output_type": "execute_result",
          "data": {
            "text/plain": [
              "((1460, 289), (1460,), (1459, 289))"
            ]
          },
          "metadata": {
            "tags": []
          },
          "execution_count": 316
        }
      ]
    },
    {
      "cell_type": "code",
      "metadata": {
        "id": "UfFO3RXgTW9Y",
        "colab_type": "code",
        "colab": {}
      },
      "source": [
        "#regressão linear sem regularização\n",
        "\n",
        "\n",
        "\n",
        "#regressão linear sem regularização\n",
        "\n",
        "lr = LinearRegression()\n",
        "mod = lr.fit(train, y)\n",
        "\n",
        "result = mod.predict(test)\n"
      ],
      "execution_count": 0,
      "outputs": []
    },
    {
      "cell_type": "code",
      "metadata": {
        "id": "EQVD4ehrTW9g",
        "colab_type": "code",
        "colab": {},
        "outputId": "a83873aa-4db4-438b-89de-411c36576771"
      },
      "source": [
        "result"
      ],
      "execution_count": 0,
      "outputs": [
        {
          "output_type": "execute_result",
          "data": {
            "text/plain": [
              "array([207798.68274029, 204941.4997122 , 204818.11284893, ...,\n",
              "       213502.19768629, 276014.5754254 , 142245.09104245])"
            ]
          },
          "metadata": {
            "tags": []
          },
          "execution_count": 320
        }
      ]
    },
    {
      "cell_type": "code",
      "metadata": {
        "id": "zLzUAdQlTW9n",
        "colab_type": "code",
        "colab": {}
      },
      "source": [
        "submission = pd.DataFrame({\"Id\": Id,\n",
        "                           \"SalePrice\":result\n",
        "                          })\n",
        "\n",
        "submission.to_csv('./submissionr.csv',index=False)"
      ],
      "execution_count": 0,
      "outputs": []
    },
    {
      "cell_type": "code",
      "metadata": {
        "id": "65hKH-zNTW9z",
        "colab_type": "code",
        "colab": {},
        "outputId": "3c08d940-132c-45b4-dcb8-9b94a77b27ab"
      },
      "source": [
        "sub =pd.read_csv(\"submissionr.csv\")\n",
        "sub.head()"
      ],
      "execution_count": 0,
      "outputs": [
        {
          "output_type": "execute_result",
          "data": {
            "text/html": [
              "<div>\n",
              "<style scoped>\n",
              "    .dataframe tbody tr th:only-of-type {\n",
              "        vertical-align: middle;\n",
              "    }\n",
              "\n",
              "    .dataframe tbody tr th {\n",
              "        vertical-align: top;\n",
              "    }\n",
              "\n",
              "    .dataframe thead th {\n",
              "        text-align: right;\n",
              "    }\n",
              "</style>\n",
              "<table border=\"1\" class=\"dataframe\">\n",
              "  <thead>\n",
              "    <tr style=\"text-align: right;\">\n",
              "      <th></th>\n",
              "      <th>Id</th>\n",
              "      <th>SalePrice</th>\n",
              "    </tr>\n",
              "  </thead>\n",
              "  <tbody>\n",
              "    <tr>\n",
              "      <td>0</td>\n",
              "      <td>1461</td>\n",
              "      <td>207798.682740</td>\n",
              "    </tr>\n",
              "    <tr>\n",
              "      <td>1</td>\n",
              "      <td>1462</td>\n",
              "      <td>204941.499712</td>\n",
              "    </tr>\n",
              "    <tr>\n",
              "      <td>2</td>\n",
              "      <td>1463</td>\n",
              "      <td>204818.112849</td>\n",
              "    </tr>\n",
              "    <tr>\n",
              "      <td>3</td>\n",
              "      <td>1464</td>\n",
              "      <td>164073.846718</td>\n",
              "    </tr>\n",
              "    <tr>\n",
              "      <td>4</td>\n",
              "      <td>1465</td>\n",
              "      <td>291132.817022</td>\n",
              "    </tr>\n",
              "  </tbody>\n",
              "</table>\n",
              "</div>"
            ],
            "text/plain": [
              "     Id      SalePrice\n",
              "0  1461  207798.682740\n",
              "1  1462  204941.499712\n",
              "2  1463  204818.112849\n",
              "3  1464  164073.846718\n",
              "4  1465  291132.817022"
            ]
          },
          "metadata": {
            "tags": []
          },
          "execution_count": 322
        }
      ]
    },
    {
      "cell_type": "code",
      "metadata": {
        "id": "MnPxM6CeTW97",
        "colab_type": "code",
        "colab": {}
      },
      "source": [
        ""
      ],
      "execution_count": 0,
      "outputs": []
    }
  ]
}