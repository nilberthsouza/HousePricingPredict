{
  "nbformat": 4,
  "nbformat_minor": 0,
  "metadata": {
    "kernelspec": {
      "display_name": "Python 3",
      "language": "python",
      "name": "python3"
    },
    "language_info": {
      "codemirror_mode": {
        "name": "ipython",
        "version": 3
      },
      "file_extension": ".py",
      "mimetype": "text/x-python",
      "name": "python",
      "nbconvert_exporter": "python",
      "pygments_lexer": "ipython3",
      "version": "3.7.4"
    },
    "colab": {
      "name": "Predict House Price and EDA.ipynb",
      "provenance": [],
      "include_colab_link": true
    }
  },
  "cells": [
    {
      "cell_type": "markdown",
      "metadata": {
        "id": "view-in-github",
        "colab_type": "text"
      },
      "source": [
        "<a href=\"https://colab.research.google.com/github/nilberthsouza/HousePricingPredict/blob/master/Predict%20House%20Price%20and%20EDA.ipynb\" target=\"_parent\"><img src=\"https://colab.research.google.com/assets/colab-badge.svg\" alt=\"Open In Colab\"/></a>"
      ]
    },
    {
      "cell_type": "markdown",
      "metadata": {
        "id": "aQ4D8GuL4MpP",
        "colab_type": "text"
      },
      "source": [
        ""
      ]
    },
    {
      "cell_type": "code",
      "metadata": {
        "id": "qGCpHcxATW4_",
        "colab_type": "code",
        "outputId": "8d27d505-e17c-491a-de36-75c0efe36788",
        "colab": {
          "base_uri": "https://localhost:8080/",
          "height": 71
        }
      },
      "source": [
        "#pandas para o processamento dos dados, nesse caso os dataset's estão em *.csv e pandas lida bem com esse formato\n",
        "#numpy para toda a algebra linear \n",
        "#Matplotlib e Seaborn para plotar os graficos na exploração de dados\n",
        "import pandas as pd\n",
        "import numpy as np\n",
        "import matplotlib.pyplot as plt\n",
        "import seaborn as sns\n",
        "\n",
        "#As bibliotecas do scikit learn ja tem nomes bem sugestivas, basta checar a documentação. Porem são essas libs responsaveis em treinar o modelo\n",
        "from sklearn.model_selection import cross_val_score, train_test_split\n",
        "from sklearn.preprocessing import StandardScaler\n",
        "from sklearn.linear_model import LinearRegression, RidgeCV, LassoCV, ElasticNetCV\n",
        "from sklearn.metrics import make_scorer\n",
        "from sklearn.metrics import mean_squared_error\n",
        "from sklearn.model_selection import KFold\n",
        "\n"
      ],
      "execution_count": 1,
      "outputs": [
        {
          "output_type": "stream",
          "text": [
            "/usr/local/lib/python3.6/dist-packages/statsmodels/tools/_testing.py:19: FutureWarning: pandas.util.testing is deprecated. Use the functions in the public API at pandas.testing instead.\n",
            "  import pandas.util.testing as tm\n"
          ],
          "name": "stderr"
        }
      ]
    },
    {
      "cell_type": "code",
      "metadata": {
        "id": "bMNvTMQiTW5L",
        "colab_type": "code",
        "colab": {}
      },
      "source": [
        "#Começamos transformando os 2 datasets dispibilizados em dataframes para manipularmos e processar os dados\n",
        "train = pd.read_csv('https://raw.githubusercontent.com/nilberthsouza/HousePricingPredict/master/train.csv')\n",
        "test = pd.read_csv('https://raw.githubusercontent.com/nilberthsouza/HousePricingPredict/master/test.csv')\n"
      ],
      "execution_count": 0,
      "outputs": []
    },
    {
      "cell_type": "code",
      "metadata": {
        "id": "ft_ZGo6cTW5U",
        "colab_type": "code",
        "outputId": "f8a3e3ab-0bbd-4afd-9aa0-e2f8b1a33060",
        "colab": {
          "base_uri": "https://localhost:8080/",
          "height": 323
        }
      },
      "source": [
        "#Essas são as colunas do dataset train\n",
        "train.columns"
      ],
      "execution_count": 3,
      "outputs": [
        {
          "output_type": "execute_result",
          "data": {
            "text/plain": [
              "Index(['Id', 'MSSubClass', 'MSZoning', 'LotFrontage', 'LotArea', 'Street',\n",
              "       'Alley', 'LotShape', 'LandContour', 'Utilities', 'LotConfig',\n",
              "       'LandSlope', 'Neighborhood', 'Condition1', 'Condition2', 'BldgType',\n",
              "       'HouseStyle', 'OverallQual', 'OverallCond', 'YearBuilt', 'YearRemodAdd',\n",
              "       'RoofStyle', 'RoofMatl', 'Exterior1st', 'Exterior2nd', 'MasVnrType',\n",
              "       'MasVnrArea', 'ExterQual', 'ExterCond', 'Foundation', 'BsmtQual',\n",
              "       'BsmtCond', 'BsmtExposure', 'BsmtFinType1', 'BsmtFinSF1',\n",
              "       'BsmtFinType2', 'BsmtFinSF2', 'BsmtUnfSF', 'TotalBsmtSF', 'Heating',\n",
              "       'HeatingQC', 'CentralAir', 'Electrical', '1stFlrSF', '2ndFlrSF',\n",
              "       'LowQualFinSF', 'GrLivArea', 'BsmtFullBath', 'BsmtHalfBath', 'FullBath',\n",
              "       'HalfBath', 'BedroomAbvGr', 'KitchenAbvGr', 'KitchenQual',\n",
              "       'TotRmsAbvGrd', 'Functional', 'Fireplaces', 'FireplaceQu', 'GarageType',\n",
              "       'GarageYrBlt', 'GarageFinish', 'GarageCars', 'GarageArea', 'GarageQual',\n",
              "       'GarageCond', 'PavedDrive', 'WoodDeckSF', 'OpenPorchSF',\n",
              "       'EnclosedPorch', '3SsnPorch', 'ScreenPorch', 'PoolArea', 'PoolQC',\n",
              "       'Fence', 'MiscFeature', 'MiscVal', 'MoSold', 'YrSold', 'SaleType',\n",
              "       'SaleCondition', 'SalePrice'],\n",
              "      dtype='object')"
            ]
          },
          "metadata": {
            "tags": []
          },
          "execution_count": 3
        }
      ]
    },
    {
      "cell_type": "code",
      "metadata": {
        "id": "ren_5xd7TW5g",
        "colab_type": "code",
        "outputId": "b7cbb19d-6bde-45ce-aae5-09d05479e4e2",
        "colab": {
          "base_uri": "https://localhost:8080/",
          "height": 253
        }
      },
      "source": [
        "train.head()\n"
      ],
      "execution_count": 4,
      "outputs": [
        {
          "output_type": "execute_result",
          "data": {
            "text/html": [
              "<div>\n",
              "<style scoped>\n",
              "    .dataframe tbody tr th:only-of-type {\n",
              "        vertical-align: middle;\n",
              "    }\n",
              "\n",
              "    .dataframe tbody tr th {\n",
              "        vertical-align: top;\n",
              "    }\n",
              "\n",
              "    .dataframe thead th {\n",
              "        text-align: right;\n",
              "    }\n",
              "</style>\n",
              "<table border=\"1\" class=\"dataframe\">\n",
              "  <thead>\n",
              "    <tr style=\"text-align: right;\">\n",
              "      <th></th>\n",
              "      <th>Id</th>\n",
              "      <th>MSSubClass</th>\n",
              "      <th>MSZoning</th>\n",
              "      <th>LotFrontage</th>\n",
              "      <th>LotArea</th>\n",
              "      <th>Street</th>\n",
              "      <th>Alley</th>\n",
              "      <th>LotShape</th>\n",
              "      <th>LandContour</th>\n",
              "      <th>Utilities</th>\n",
              "      <th>LotConfig</th>\n",
              "      <th>LandSlope</th>\n",
              "      <th>Neighborhood</th>\n",
              "      <th>Condition1</th>\n",
              "      <th>Condition2</th>\n",
              "      <th>BldgType</th>\n",
              "      <th>HouseStyle</th>\n",
              "      <th>OverallQual</th>\n",
              "      <th>OverallCond</th>\n",
              "      <th>YearBuilt</th>\n",
              "      <th>YearRemodAdd</th>\n",
              "      <th>RoofStyle</th>\n",
              "      <th>RoofMatl</th>\n",
              "      <th>Exterior1st</th>\n",
              "      <th>Exterior2nd</th>\n",
              "      <th>MasVnrType</th>\n",
              "      <th>MasVnrArea</th>\n",
              "      <th>ExterQual</th>\n",
              "      <th>ExterCond</th>\n",
              "      <th>Foundation</th>\n",
              "      <th>BsmtQual</th>\n",
              "      <th>BsmtCond</th>\n",
              "      <th>BsmtExposure</th>\n",
              "      <th>BsmtFinType1</th>\n",
              "      <th>BsmtFinSF1</th>\n",
              "      <th>BsmtFinType2</th>\n",
              "      <th>BsmtFinSF2</th>\n",
              "      <th>BsmtUnfSF</th>\n",
              "      <th>TotalBsmtSF</th>\n",
              "      <th>Heating</th>\n",
              "      <th>...</th>\n",
              "      <th>CentralAir</th>\n",
              "      <th>Electrical</th>\n",
              "      <th>1stFlrSF</th>\n",
              "      <th>2ndFlrSF</th>\n",
              "      <th>LowQualFinSF</th>\n",
              "      <th>GrLivArea</th>\n",
              "      <th>BsmtFullBath</th>\n",
              "      <th>BsmtHalfBath</th>\n",
              "      <th>FullBath</th>\n",
              "      <th>HalfBath</th>\n",
              "      <th>BedroomAbvGr</th>\n",
              "      <th>KitchenAbvGr</th>\n",
              "      <th>KitchenQual</th>\n",
              "      <th>TotRmsAbvGrd</th>\n",
              "      <th>Functional</th>\n",
              "      <th>Fireplaces</th>\n",
              "      <th>FireplaceQu</th>\n",
              "      <th>GarageType</th>\n",
              "      <th>GarageYrBlt</th>\n",
              "      <th>GarageFinish</th>\n",
              "      <th>GarageCars</th>\n",
              "      <th>GarageArea</th>\n",
              "      <th>GarageQual</th>\n",
              "      <th>GarageCond</th>\n",
              "      <th>PavedDrive</th>\n",
              "      <th>WoodDeckSF</th>\n",
              "      <th>OpenPorchSF</th>\n",
              "      <th>EnclosedPorch</th>\n",
              "      <th>3SsnPorch</th>\n",
              "      <th>ScreenPorch</th>\n",
              "      <th>PoolArea</th>\n",
              "      <th>PoolQC</th>\n",
              "      <th>Fence</th>\n",
              "      <th>MiscFeature</th>\n",
              "      <th>MiscVal</th>\n",
              "      <th>MoSold</th>\n",
              "      <th>YrSold</th>\n",
              "      <th>SaleType</th>\n",
              "      <th>SaleCondition</th>\n",
              "      <th>SalePrice</th>\n",
              "    </tr>\n",
              "  </thead>\n",
              "  <tbody>\n",
              "    <tr>\n",
              "      <th>0</th>\n",
              "      <td>1</td>\n",
              "      <td>60</td>\n",
              "      <td>RL</td>\n",
              "      <td>65.0</td>\n",
              "      <td>8450</td>\n",
              "      <td>Pave</td>\n",
              "      <td>NaN</td>\n",
              "      <td>Reg</td>\n",
              "      <td>Lvl</td>\n",
              "      <td>AllPub</td>\n",
              "      <td>Inside</td>\n",
              "      <td>Gtl</td>\n",
              "      <td>CollgCr</td>\n",
              "      <td>Norm</td>\n",
              "      <td>Norm</td>\n",
              "      <td>1Fam</td>\n",
              "      <td>2Story</td>\n",
              "      <td>7</td>\n",
              "      <td>5</td>\n",
              "      <td>2003</td>\n",
              "      <td>2003</td>\n",
              "      <td>Gable</td>\n",
              "      <td>CompShg</td>\n",
              "      <td>VinylSd</td>\n",
              "      <td>VinylSd</td>\n",
              "      <td>BrkFace</td>\n",
              "      <td>196.0</td>\n",
              "      <td>Gd</td>\n",
              "      <td>TA</td>\n",
              "      <td>PConc</td>\n",
              "      <td>Gd</td>\n",
              "      <td>TA</td>\n",
              "      <td>No</td>\n",
              "      <td>GLQ</td>\n",
              "      <td>706</td>\n",
              "      <td>Unf</td>\n",
              "      <td>0</td>\n",
              "      <td>150</td>\n",
              "      <td>856</td>\n",
              "      <td>GasA</td>\n",
              "      <td>...</td>\n",
              "      <td>Y</td>\n",
              "      <td>SBrkr</td>\n",
              "      <td>856</td>\n",
              "      <td>854</td>\n",
              "      <td>0</td>\n",
              "      <td>1710</td>\n",
              "      <td>1</td>\n",
              "      <td>0</td>\n",
              "      <td>2</td>\n",
              "      <td>1</td>\n",
              "      <td>3</td>\n",
              "      <td>1</td>\n",
              "      <td>Gd</td>\n",
              "      <td>8</td>\n",
              "      <td>Typ</td>\n",
              "      <td>0</td>\n",
              "      <td>NaN</td>\n",
              "      <td>Attchd</td>\n",
              "      <td>2003.0</td>\n",
              "      <td>RFn</td>\n",
              "      <td>2</td>\n",
              "      <td>548</td>\n",
              "      <td>TA</td>\n",
              "      <td>TA</td>\n",
              "      <td>Y</td>\n",
              "      <td>0</td>\n",
              "      <td>61</td>\n",
              "      <td>0</td>\n",
              "      <td>0</td>\n",
              "      <td>0</td>\n",
              "      <td>0</td>\n",
              "      <td>NaN</td>\n",
              "      <td>NaN</td>\n",
              "      <td>NaN</td>\n",
              "      <td>0</td>\n",
              "      <td>2</td>\n",
              "      <td>2008</td>\n",
              "      <td>WD</td>\n",
              "      <td>Normal</td>\n",
              "      <td>208500</td>\n",
              "    </tr>\n",
              "    <tr>\n",
              "      <th>1</th>\n",
              "      <td>2</td>\n",
              "      <td>20</td>\n",
              "      <td>RL</td>\n",
              "      <td>80.0</td>\n",
              "      <td>9600</td>\n",
              "      <td>Pave</td>\n",
              "      <td>NaN</td>\n",
              "      <td>Reg</td>\n",
              "      <td>Lvl</td>\n",
              "      <td>AllPub</td>\n",
              "      <td>FR2</td>\n",
              "      <td>Gtl</td>\n",
              "      <td>Veenker</td>\n",
              "      <td>Feedr</td>\n",
              "      <td>Norm</td>\n",
              "      <td>1Fam</td>\n",
              "      <td>1Story</td>\n",
              "      <td>6</td>\n",
              "      <td>8</td>\n",
              "      <td>1976</td>\n",
              "      <td>1976</td>\n",
              "      <td>Gable</td>\n",
              "      <td>CompShg</td>\n",
              "      <td>MetalSd</td>\n",
              "      <td>MetalSd</td>\n",
              "      <td>None</td>\n",
              "      <td>0.0</td>\n",
              "      <td>TA</td>\n",
              "      <td>TA</td>\n",
              "      <td>CBlock</td>\n",
              "      <td>Gd</td>\n",
              "      <td>TA</td>\n",
              "      <td>Gd</td>\n",
              "      <td>ALQ</td>\n",
              "      <td>978</td>\n",
              "      <td>Unf</td>\n",
              "      <td>0</td>\n",
              "      <td>284</td>\n",
              "      <td>1262</td>\n",
              "      <td>GasA</td>\n",
              "      <td>...</td>\n",
              "      <td>Y</td>\n",
              "      <td>SBrkr</td>\n",
              "      <td>1262</td>\n",
              "      <td>0</td>\n",
              "      <td>0</td>\n",
              "      <td>1262</td>\n",
              "      <td>0</td>\n",
              "      <td>1</td>\n",
              "      <td>2</td>\n",
              "      <td>0</td>\n",
              "      <td>3</td>\n",
              "      <td>1</td>\n",
              "      <td>TA</td>\n",
              "      <td>6</td>\n",
              "      <td>Typ</td>\n",
              "      <td>1</td>\n",
              "      <td>TA</td>\n",
              "      <td>Attchd</td>\n",
              "      <td>1976.0</td>\n",
              "      <td>RFn</td>\n",
              "      <td>2</td>\n",
              "      <td>460</td>\n",
              "      <td>TA</td>\n",
              "      <td>TA</td>\n",
              "      <td>Y</td>\n",
              "      <td>298</td>\n",
              "      <td>0</td>\n",
              "      <td>0</td>\n",
              "      <td>0</td>\n",
              "      <td>0</td>\n",
              "      <td>0</td>\n",
              "      <td>NaN</td>\n",
              "      <td>NaN</td>\n",
              "      <td>NaN</td>\n",
              "      <td>0</td>\n",
              "      <td>5</td>\n",
              "      <td>2007</td>\n",
              "      <td>WD</td>\n",
              "      <td>Normal</td>\n",
              "      <td>181500</td>\n",
              "    </tr>\n",
              "    <tr>\n",
              "      <th>2</th>\n",
              "      <td>3</td>\n",
              "      <td>60</td>\n",
              "      <td>RL</td>\n",
              "      <td>68.0</td>\n",
              "      <td>11250</td>\n",
              "      <td>Pave</td>\n",
              "      <td>NaN</td>\n",
              "      <td>IR1</td>\n",
              "      <td>Lvl</td>\n",
              "      <td>AllPub</td>\n",
              "      <td>Inside</td>\n",
              "      <td>Gtl</td>\n",
              "      <td>CollgCr</td>\n",
              "      <td>Norm</td>\n",
              "      <td>Norm</td>\n",
              "      <td>1Fam</td>\n",
              "      <td>2Story</td>\n",
              "      <td>7</td>\n",
              "      <td>5</td>\n",
              "      <td>2001</td>\n",
              "      <td>2002</td>\n",
              "      <td>Gable</td>\n",
              "      <td>CompShg</td>\n",
              "      <td>VinylSd</td>\n",
              "      <td>VinylSd</td>\n",
              "      <td>BrkFace</td>\n",
              "      <td>162.0</td>\n",
              "      <td>Gd</td>\n",
              "      <td>TA</td>\n",
              "      <td>PConc</td>\n",
              "      <td>Gd</td>\n",
              "      <td>TA</td>\n",
              "      <td>Mn</td>\n",
              "      <td>GLQ</td>\n",
              "      <td>486</td>\n",
              "      <td>Unf</td>\n",
              "      <td>0</td>\n",
              "      <td>434</td>\n",
              "      <td>920</td>\n",
              "      <td>GasA</td>\n",
              "      <td>...</td>\n",
              "      <td>Y</td>\n",
              "      <td>SBrkr</td>\n",
              "      <td>920</td>\n",
              "      <td>866</td>\n",
              "      <td>0</td>\n",
              "      <td>1786</td>\n",
              "      <td>1</td>\n",
              "      <td>0</td>\n",
              "      <td>2</td>\n",
              "      <td>1</td>\n",
              "      <td>3</td>\n",
              "      <td>1</td>\n",
              "      <td>Gd</td>\n",
              "      <td>6</td>\n",
              "      <td>Typ</td>\n",
              "      <td>1</td>\n",
              "      <td>TA</td>\n",
              "      <td>Attchd</td>\n",
              "      <td>2001.0</td>\n",
              "      <td>RFn</td>\n",
              "      <td>2</td>\n",
              "      <td>608</td>\n",
              "      <td>TA</td>\n",
              "      <td>TA</td>\n",
              "      <td>Y</td>\n",
              "      <td>0</td>\n",
              "      <td>42</td>\n",
              "      <td>0</td>\n",
              "      <td>0</td>\n",
              "      <td>0</td>\n",
              "      <td>0</td>\n",
              "      <td>NaN</td>\n",
              "      <td>NaN</td>\n",
              "      <td>NaN</td>\n",
              "      <td>0</td>\n",
              "      <td>9</td>\n",
              "      <td>2008</td>\n",
              "      <td>WD</td>\n",
              "      <td>Normal</td>\n",
              "      <td>223500</td>\n",
              "    </tr>\n",
              "    <tr>\n",
              "      <th>3</th>\n",
              "      <td>4</td>\n",
              "      <td>70</td>\n",
              "      <td>RL</td>\n",
              "      <td>60.0</td>\n",
              "      <td>9550</td>\n",
              "      <td>Pave</td>\n",
              "      <td>NaN</td>\n",
              "      <td>IR1</td>\n",
              "      <td>Lvl</td>\n",
              "      <td>AllPub</td>\n",
              "      <td>Corner</td>\n",
              "      <td>Gtl</td>\n",
              "      <td>Crawfor</td>\n",
              "      <td>Norm</td>\n",
              "      <td>Norm</td>\n",
              "      <td>1Fam</td>\n",
              "      <td>2Story</td>\n",
              "      <td>7</td>\n",
              "      <td>5</td>\n",
              "      <td>1915</td>\n",
              "      <td>1970</td>\n",
              "      <td>Gable</td>\n",
              "      <td>CompShg</td>\n",
              "      <td>Wd Sdng</td>\n",
              "      <td>Wd Shng</td>\n",
              "      <td>None</td>\n",
              "      <td>0.0</td>\n",
              "      <td>TA</td>\n",
              "      <td>TA</td>\n",
              "      <td>BrkTil</td>\n",
              "      <td>TA</td>\n",
              "      <td>Gd</td>\n",
              "      <td>No</td>\n",
              "      <td>ALQ</td>\n",
              "      <td>216</td>\n",
              "      <td>Unf</td>\n",
              "      <td>0</td>\n",
              "      <td>540</td>\n",
              "      <td>756</td>\n",
              "      <td>GasA</td>\n",
              "      <td>...</td>\n",
              "      <td>Y</td>\n",
              "      <td>SBrkr</td>\n",
              "      <td>961</td>\n",
              "      <td>756</td>\n",
              "      <td>0</td>\n",
              "      <td>1717</td>\n",
              "      <td>1</td>\n",
              "      <td>0</td>\n",
              "      <td>1</td>\n",
              "      <td>0</td>\n",
              "      <td>3</td>\n",
              "      <td>1</td>\n",
              "      <td>Gd</td>\n",
              "      <td>7</td>\n",
              "      <td>Typ</td>\n",
              "      <td>1</td>\n",
              "      <td>Gd</td>\n",
              "      <td>Detchd</td>\n",
              "      <td>1998.0</td>\n",
              "      <td>Unf</td>\n",
              "      <td>3</td>\n",
              "      <td>642</td>\n",
              "      <td>TA</td>\n",
              "      <td>TA</td>\n",
              "      <td>Y</td>\n",
              "      <td>0</td>\n",
              "      <td>35</td>\n",
              "      <td>272</td>\n",
              "      <td>0</td>\n",
              "      <td>0</td>\n",
              "      <td>0</td>\n",
              "      <td>NaN</td>\n",
              "      <td>NaN</td>\n",
              "      <td>NaN</td>\n",
              "      <td>0</td>\n",
              "      <td>2</td>\n",
              "      <td>2006</td>\n",
              "      <td>WD</td>\n",
              "      <td>Abnorml</td>\n",
              "      <td>140000</td>\n",
              "    </tr>\n",
              "    <tr>\n",
              "      <th>4</th>\n",
              "      <td>5</td>\n",
              "      <td>60</td>\n",
              "      <td>RL</td>\n",
              "      <td>84.0</td>\n",
              "      <td>14260</td>\n",
              "      <td>Pave</td>\n",
              "      <td>NaN</td>\n",
              "      <td>IR1</td>\n",
              "      <td>Lvl</td>\n",
              "      <td>AllPub</td>\n",
              "      <td>FR2</td>\n",
              "      <td>Gtl</td>\n",
              "      <td>NoRidge</td>\n",
              "      <td>Norm</td>\n",
              "      <td>Norm</td>\n",
              "      <td>1Fam</td>\n",
              "      <td>2Story</td>\n",
              "      <td>8</td>\n",
              "      <td>5</td>\n",
              "      <td>2000</td>\n",
              "      <td>2000</td>\n",
              "      <td>Gable</td>\n",
              "      <td>CompShg</td>\n",
              "      <td>VinylSd</td>\n",
              "      <td>VinylSd</td>\n",
              "      <td>BrkFace</td>\n",
              "      <td>350.0</td>\n",
              "      <td>Gd</td>\n",
              "      <td>TA</td>\n",
              "      <td>PConc</td>\n",
              "      <td>Gd</td>\n",
              "      <td>TA</td>\n",
              "      <td>Av</td>\n",
              "      <td>GLQ</td>\n",
              "      <td>655</td>\n",
              "      <td>Unf</td>\n",
              "      <td>0</td>\n",
              "      <td>490</td>\n",
              "      <td>1145</td>\n",
              "      <td>GasA</td>\n",
              "      <td>...</td>\n",
              "      <td>Y</td>\n",
              "      <td>SBrkr</td>\n",
              "      <td>1145</td>\n",
              "      <td>1053</td>\n",
              "      <td>0</td>\n",
              "      <td>2198</td>\n",
              "      <td>1</td>\n",
              "      <td>0</td>\n",
              "      <td>2</td>\n",
              "      <td>1</td>\n",
              "      <td>4</td>\n",
              "      <td>1</td>\n",
              "      <td>Gd</td>\n",
              "      <td>9</td>\n",
              "      <td>Typ</td>\n",
              "      <td>1</td>\n",
              "      <td>TA</td>\n",
              "      <td>Attchd</td>\n",
              "      <td>2000.0</td>\n",
              "      <td>RFn</td>\n",
              "      <td>3</td>\n",
              "      <td>836</td>\n",
              "      <td>TA</td>\n",
              "      <td>TA</td>\n",
              "      <td>Y</td>\n",
              "      <td>192</td>\n",
              "      <td>84</td>\n",
              "      <td>0</td>\n",
              "      <td>0</td>\n",
              "      <td>0</td>\n",
              "      <td>0</td>\n",
              "      <td>NaN</td>\n",
              "      <td>NaN</td>\n",
              "      <td>NaN</td>\n",
              "      <td>0</td>\n",
              "      <td>12</td>\n",
              "      <td>2008</td>\n",
              "      <td>WD</td>\n",
              "      <td>Normal</td>\n",
              "      <td>250000</td>\n",
              "    </tr>\n",
              "  </tbody>\n",
              "</table>\n",
              "<p>5 rows × 81 columns</p>\n",
              "</div>"
            ],
            "text/plain": [
              "   Id  MSSubClass MSZoning  ...  SaleType  SaleCondition SalePrice\n",
              "0   1          60       RL  ...        WD         Normal    208500\n",
              "1   2          20       RL  ...        WD         Normal    181500\n",
              "2   3          60       RL  ...        WD         Normal    223500\n",
              "3   4          70       RL  ...        WD        Abnorml    140000\n",
              "4   5          60       RL  ...        WD         Normal    250000\n",
              "\n",
              "[5 rows x 81 columns]"
            ]
          },
          "metadata": {
            "tags": []
          },
          "execution_count": 4
        }
      ]
    },
    {
      "cell_type": "code",
      "metadata": {
        "id": "uKdT08xETW5p",
        "colab_type": "code",
        "colab": {}
      },
      "source": [
        "Id = test['Id']\n"
      ],
      "execution_count": 0,
      "outputs": []
    },
    {
      "cell_type": "code",
      "metadata": {
        "id": "RWBxdRLETW5y",
        "colab_type": "code",
        "outputId": "bbadb6be-a2ea-4d52-bfe1-1cc110386e7d",
        "colab": {
          "base_uri": "https://localhost:8080/",
          "height": 661
        }
      },
      "source": [
        "#Matrix de correlação\n",
        "\n",
        "correlatedMatrix = train.corr()\n",
        "mostCorrelatedFeatures = correlatedMatrix.index[abs(correlatedMatrix[\"SalePrice\"])>0.3]\n",
        "plt.figure(figsize=(10,10))\n",
        "g = sns.heatmap(train[mostCorrelatedFeatures].corr(),annot=True,cmap=\"RdYlGn\")\n"
      ],
      "execution_count": 6,
      "outputs": [
        {
          "output_type": "display_data",
          "data": {
            "image/png": "[encoded data removed]",
            "text/plain": [
              "<Figure size 720x720 with 2 Axes>"
            ]
          },
          "metadata": {
            "tags": [],
            "needs_background": "light"
          }
        }
      ]
    },
    {
      "cell_type": "code",
      "metadata": {
        "id": "XEZ3RP_R4z8W",
        "colab_type": "code",
        "outputId": "3344d9a3-c5fe-4ef3-b6da-6f1d303bc37d",
        "colab": {
          "base_uri": "https://localhost:8080/",
          "height": 204
        }
      },
      "source": [
        "correlatedMatrix = train.corr()\n",
        "notcorrelated = pd.Series(correlatedMatrix.loc[correlatedMatrix['SalePrice'] < 0 ]['SalePrice'].sort_values())\n",
        "notcorrelated"
      ],
      "execution_count": 7,
      "outputs": [
        {
          "output_type": "execute_result",
          "data": {
            "text/plain": [
              "KitchenAbvGr    -0.135907\n",
              "EnclosedPorch   -0.128578\n",
              "MSSubClass      -0.084284\n",
              "OverallCond     -0.077856\n",
              "YrSold          -0.028923\n",
              "LowQualFinSF    -0.025606\n",
              "Id              -0.021917\n",
              "MiscVal         -0.021190\n",
              "BsmtHalfBath    -0.016844\n",
              "BsmtFinSF2      -0.011378\n",
              "Name: SalePrice, dtype: float64"
            ]
          },
          "metadata": {
            "tags": []
          },
          "execution_count": 7
        }
      ]
    },
    {
      "cell_type": "code",
      "metadata": {
        "id": "0Xkn1nTf69oc",
        "colab_type": "code",
        "outputId": "934de93b-f363-4bdd-97a9-a8f7a65a7d89",
        "colab": {
          "base_uri": "https://localhost:8080/",
          "height": 509
        }
      },
      "source": [
        "sns.set(style=\"white\", palette=\"muted\", color_codes=True)\n",
        "\n",
        "# Set up the matplotlib figure\n",
        "f, axes = plt.subplots(2, 2, figsize=(7, 7), sharex=True)\n",
        "sns.despine(left=True)\n",
        "\n",
        "sns.barplot(train.KitchenAbvGr,train.SalePrice,color='b', ax=axes[0, 0])\n",
        "\n",
        "sns.barplot(train.EnclosedPorch,train.SalePrice,color='r', ax=axes[0, 1])\n",
        "\n",
        "sns.barplot(train.MSSubClass,train.SalePrice,color='g', ax=axes[1, 0])\n",
        "\n",
        "sns.barplot(train.OverallCond,train.SalePrice,color='brown', ax=axes[1, 1])\n",
        "\n",
        "plt.setp(axes, yticks=[])\n",
        "plt.tight_layout()"
      ],
      "execution_count": 8,
      "outputs": [
        {
          "output_type": "display_data",
          "data": {
            "image/png": "[encoded data removed]",
            "text/plain": [
              "<Figure size 504x504 with 4 Axes>"
            ]
          },
          "metadata": {
            "tags": []
          }
        }
      ]
    },
    {
      "cell_type": "code",
      "metadata": {
        "id": "loTKEpgmTW57",
        "colab_type": "code",
        "outputId": "87adbd07-de81-44ff-b181-78c4e65904a4",
        "colab": {
          "base_uri": "https://localhost:8080/",
          "height": 302
        }
      },
      "source": [
        "#como podemos notar overallQual tem alta correlação com SalePrice, vejamos como é o grafico\n",
        "sns.barplot(train.OverallQual,train.SalePrice)"
      ],
      "execution_count": 9,
      "outputs": [
        {
          "output_type": "execute_result",
          "data": {
            "text/plain": [
              "<matplotlib.axes._subplots.AxesSubplot at 0x7f0fcd2797f0>"
            ]
          },
          "metadata": {
            "tags": []
          },
          "execution_count": 9
        },
        {
          "output_type": "display_data",
          "data": {
            "image/png": "[encoded data removed]",
            "text/plain": [
              "<Figure size 432x288 with 1 Axes>"
            ]
          },
          "metadata": {
            "tags": []
          }
        }
      ]
    },
    {
      "cell_type": "code",
      "metadata": {
        "id": "7N1eki3WTW6F",
        "colab_type": "code",
        "outputId": "237c741a-220f-4e8c-dd29-654a1d4794ba",
        "colab": {
          "base_uri": "https://localhost:8080/",
          "height": 313
        }
      },
      "source": [
        "from scipy import stats\n",
        "from scipy.stats import norm, skew\n",
        "\n",
        "#vamos plotar o grafico de SalePrice e comparar com a curva normal\n",
        "\n",
        "sns.distplot(train.SalePrice,fit=norm)"
      ],
      "execution_count": 10,
      "outputs": [
        {
          "output_type": "execute_result",
          "data": {
            "text/plain": [
              "<matplotlib.axes._subplots.AxesSubplot at 0x7f0fcd757da0>"
            ]
          },
          "metadata": {
            "tags": []
          },
          "execution_count": 10
        },
        {
          "output_type": "display_data",
          "data": {
            "image/png": "[encoded data removed]",
            "text/plain": [
              "<Figure size 432x288 with 1 Axes>"
            ]
          },
          "metadata": {
            "tags": []
          }
        }
      ]
    },
    {
      "cell_type": "code",
      "metadata": {
        "id": "6CAKY7XfTW6O",
        "colab_type": "code",
        "outputId": "1c99c5b5-c4d4-4e7d-ca49-8eb4cc9ac4b9",
        "colab": {
          "base_uri": "https://localhost:8080/",
          "height": 34
        }
      },
      "source": [
        "#Mu e sigma da curva normal podem ser encontradas da forma abaixo\n",
        "(mu,sigma) =norm.fit(train.SalePrice)\n",
        "print(\"The parameter mu is {} and the parameter sigma is {}\".format(mu,sigma))"
      ],
      "execution_count": 11,
      "outputs": [
        {
          "output_type": "stream",
          "text": [
            "The parameter mu is 180921.19589041095 and the parameter sigma is 79415.29188606751\n"
          ],
          "name": "stdout"
        }
      ]
    },
    {
      "cell_type": "code",
      "metadata": {
        "id": "q9lrpiLATW6W",
        "colab_type": "code",
        "outputId": "ea5f0932-58ce-4634-9b49-a51f02803350",
        "colab": {
          "base_uri": "https://localhost:8080/",
          "height": 285
        }
      },
      "source": [
        "fig = plt.figure()\n",
        "ax1 = fig.add_subplot(311)\n",
        "ax2 = fig.add_subplot(312)\n",
        "ax3 = fig.add_subplot(313)\n",
        "\n",
        "sns.scatterplot(train.SalePrice,train.GrLivArea, ax=ax1)\n",
        "\n",
        "# Plot the errorbar directly on ax1\n",
        "ax1.hist(train.GrLivArea)\n",
        "\n",
        "sns.distplot(train.GrLivArea,ax=ax3)\n",
        "# Tell the distplot to plot on ax2 with the ax argument\n",
        "# Also store the FacetGrid in 'g'\n",
        "g=sns.distplot(train.SalePrice, ax=ax2)\n",
        "\n",
        "# Close the FacetGrid figure which we don't need (g.fig)\n",
        "plt.show()\n",
        "\n"
      ],
      "execution_count": 12,
      "outputs": [
        {
          "output_type": "display_data",
          "data": {
            "image/png": "[encoded data removed]",
            "text/plain": [
              "<Figure size 432x288 with 3 Axes>"
            ]
          },
          "metadata": {
            "tags": []
          }
        }
      ]
    },
    {
      "cell_type": "code",
      "metadata": {
        "id": "v8dwiTkNTW6e",
        "colab_type": "code",
        "outputId": "dd83ebc7-d549-425d-dd29-98b6d3cdb798",
        "colab": {
          "base_uri": "https://localhost:8080/",
          "height": 221
        }
      },
      "source": [
        "#Checamos quantos campos nulos temos no dataset train\n",
        "train.isnull().sum().sort_values(ascending=False)"
      ],
      "execution_count": 0,
      "outputs": [
        {
          "output_type": "execute_result",
          "data": {
            "text/plain": [
              "PoolQC           1453\n",
              "MiscFeature      1406\n",
              "Alley            1369\n",
              "Fence            1179\n",
              "FireplaceQu       690\n",
              "                 ... \n",
              "CentralAir          0\n",
              "SaleCondition       0\n",
              "Heating             0\n",
              "TotalBsmtSF         0\n",
              "Id                  0\n",
              "Length: 81, dtype: int64"
            ]
          },
          "metadata": {
            "tags": []
          },
          "execution_count": 61
        }
      ]
    },
    {
      "cell_type": "code",
      "metadata": {
        "id": "-_10uzDKTW6o",
        "colab_type": "code",
        "outputId": "1fc034c0-92e4-4755-ccfb-7328e074d94e",
        "colab": {
          "base_uri": "https://localhost:8080/",
          "height": 680
        }
      },
      "source": [
        "#Vejamos as correlações do mais correlato ao menos correlato\n",
        "correlation = train.corr()\n",
        "correlation.sort_values([\"SalePrice\"],ascending=False,inplace=True)\n",
        "correlation.SalePrice"
      ],
      "execution_count": 13,
      "outputs": [
        {
          "output_type": "execute_result",
          "data": {
            "text/plain": [
              "SalePrice        1.000000\n",
              "OverallQual      0.790982\n",
              "GrLivArea        0.708624\n",
              "GarageCars       0.640409\n",
              "GarageArea       0.623431\n",
              "TotalBsmtSF      0.613581\n",
              "1stFlrSF         0.605852\n",
              "FullBath         0.560664\n",
              "TotRmsAbvGrd     0.533723\n",
              "YearBuilt        0.522897\n",
              "YearRemodAdd     0.507101\n",
              "GarageYrBlt      0.486362\n",
              "MasVnrArea       0.477493\n",
              "Fireplaces       0.466929\n",
              "BsmtFinSF1       0.386420\n",
              "LotFrontage      0.351799\n",
              "WoodDeckSF       0.324413\n",
              "2ndFlrSF         0.319334\n",
              "OpenPorchSF      0.315856\n",
              "HalfBath         0.284108\n",
              "LotArea          0.263843\n",
              "BsmtFullBath     0.227122\n",
              "BsmtUnfSF        0.214479\n",
              "BedroomAbvGr     0.168213\n",
              "ScreenPorch      0.111447\n",
              "PoolArea         0.092404\n",
              "MoSold           0.046432\n",
              "3SsnPorch        0.044584\n",
              "BsmtFinSF2      -0.011378\n",
              "BsmtHalfBath    -0.016844\n",
              "MiscVal         -0.021190\n",
              "Id              -0.021917\n",
              "LowQualFinSF    -0.025606\n",
              "YrSold          -0.028923\n",
              "OverallCond     -0.077856\n",
              "MSSubClass      -0.084284\n",
              "EnclosedPorch   -0.128578\n",
              "KitchenAbvGr    -0.135907\n",
              "Name: SalePrice, dtype: float64"
            ]
          },
          "metadata": {
            "tags": []
          },
          "execution_count": 13
        }
      ]
    },
    {
      "cell_type": "code",
      "metadata": {
        "id": "phqH79ACTW6y",
        "colab_type": "code",
        "colab": {}
      },
      "source": [
        "#Agora separaremos de SalePrice em uma variavel Y \n",
        "y = train['SalePrice'].copy()\n",
        "\n",
        "#Excluimos o dado do dataframe train \n",
        "train.drop(['SalePrice'],axis=1,inplace=True)\n",
        "\n",
        "Id = test['Id']\n",
        "\n",
        "train_index = train.shape[0]\n",
        "test_index = test.shape[0]\n",
        "\n",
        "full = pd.concat(objs=[train,test],axis=0).reset_index(drop=True)\n"
      ],
      "execution_count": 0,
      "outputs": []
    },
    {
      "cell_type": "code",
      "metadata": {
        "id": "aYwBqxz7TW66",
        "colab_type": "code",
        "outputId": "2843f4b1-7086-4ad6-9842-85c671443d3a",
        "colab": {
          "base_uri": "https://localhost:8080/",
          "height": 187
        }
      },
      "source": [
        "#Vamos armazer na variavel categorycalValues todos os nomes de colunas de dados categoricos\n",
        "categorycalValues = full.select_dtypes(include=['object']).columns\n",
        "\n",
        "categorycalValues"
      ],
      "execution_count": 15,
      "outputs": [
        {
          "output_type": "execute_result",
          "data": {
            "text/plain": [
              "Index(['MSZoning', 'Street', 'Alley', 'LotShape', 'LandContour', 'Utilities',\n",
              "       'LotConfig', 'LandSlope', 'Neighborhood', 'Condition1', 'Condition2',\n",
              "       'BldgType', 'HouseStyle', 'RoofStyle', 'RoofMatl', 'Exterior1st',\n",
              "       'Exterior2nd', 'MasVnrType', 'ExterQual', 'ExterCond', 'Foundation',\n",
              "       'BsmtQual', 'BsmtCond', 'BsmtExposure', 'BsmtFinType1', 'BsmtFinType2',\n",
              "       'Heating', 'HeatingQC', 'CentralAir', 'Electrical', 'KitchenQual',\n",
              "       'Functional', 'FireplaceQu', 'GarageType', 'GarageFinish', 'GarageQual',\n",
              "       'GarageCond', 'PavedDrive', 'PoolQC', 'Fence', 'MiscFeature',\n",
              "       'SaleType', 'SaleCondition'],\n",
              "      dtype='object')"
            ]
          },
          "metadata": {
            "tags": []
          },
          "execution_count": 15
        }
      ]
    },
    {
      "cell_type": "code",
      "metadata": {
        "id": "ivMfyLC9TW7D",
        "colab_type": "code",
        "outputId": "8b34d486-ca4b-4723-e3b6-3632fb39e761",
        "colab": {
          "base_uri": "https://localhost:8080/",
          "height": 170
        }
      },
      "source": [
        "#Armazenamos em numerical values todos os nomes de colunas numericas\n",
        "numericalValues = full.select_dtypes(exclude=['object']).columns\n",
        "numericalValues"
      ],
      "execution_count": 16,
      "outputs": [
        {
          "output_type": "execute_result",
          "data": {
            "text/plain": [
              "Index(['Id', 'MSSubClass', 'LotFrontage', 'LotArea', 'OverallQual',\n",
              "       'OverallCond', 'YearBuilt', 'YearRemodAdd', 'MasVnrArea', 'BsmtFinSF1',\n",
              "       'BsmtFinSF2', 'BsmtUnfSF', 'TotalBsmtSF', '1stFlrSF', '2ndFlrSF',\n",
              "       'LowQualFinSF', 'GrLivArea', 'BsmtFullBath', 'BsmtHalfBath', 'FullBath',\n",
              "       'HalfBath', 'BedroomAbvGr', 'KitchenAbvGr', 'TotRmsAbvGrd',\n",
              "       'Fireplaces', 'GarageYrBlt', 'GarageCars', 'GarageArea', 'WoodDeckSF',\n",
              "       'OpenPorchSF', 'EnclosedPorch', '3SsnPorch', 'ScreenPorch', 'PoolArea',\n",
              "       'MiscVal', 'MoSold', 'YrSold'],\n",
              "      dtype='object')"
            ]
          },
          "metadata": {
            "tags": []
          },
          "execution_count": 16
        }
      ]
    },
    {
      "cell_type": "code",
      "metadata": {
        "id": "ZFFmoj0iTW7O",
        "colab_type": "code",
        "colab": {}
      },
      "source": [
        "#Criamos 2 novos dataframes \n",
        "\n",
        "#apenas variveis numericas\n",
        "Numerical = full[numericalValues]\n",
        "\n",
        "#apenas variaveis categoricas\n",
        "Categorycal = full[categorycalValues]\n",
        "\n",
        "#isso faz com que tratemos cada tipo de dado de forma isolada."
      ],
      "execution_count": 0,
      "outputs": []
    },
    {
      "cell_type": "code",
      "metadata": {
        "id": "T0-piRA7TW7U",
        "colab_type": "code",
        "outputId": "ca503cb8-8615-4684-c03a-4890b5078665",
        "colab": {
          "base_uri": "https://localhost:8080/",
          "height": 51
        }
      },
      "source": [
        "#imprimimos quantos campos tem valores nulos\n",
        "print(Numerical.isnull().values.sum())\n",
        "\n",
        "#substituimos esses campos pela media de todos os campos\n",
        "Numerical = Numerical.fillna(Numerical.mean())\n",
        "\n",
        "#imprimimos quanto campos com valores nulos sobraram\n",
        "print(Numerical.isnull().values.sum())"
      ],
      "execution_count": 18,
      "outputs": [
        {
          "output_type": "stream",
          "text": [
            "678\n",
            "0\n"
          ],
          "name": "stdout"
        }
      ]
    },
    {
      "cell_type": "code",
      "metadata": {
        "id": "ITaakNiqTW7b",
        "colab_type": "code",
        "outputId": "7561a681-c916-4dec-abde-3663688f4a0b",
        "colab": {
          "base_uri": "https://localhost:8080/",
          "height": 663
        }
      },
      "source": [
        "skewness = Numerical.apply(lambda x: skew(x))\n",
        "skewness.sort_values(ascending=False)"
      ],
      "execution_count": 19,
      "outputs": [
        {
          "output_type": "execute_result",
          "data": {
            "text/plain": [
              "MiscVal          21.947195\n",
              "PoolArea         16.898328\n",
              "LotArea          12.822431\n",
              "LowQualFinSF     12.088761\n",
              "3SsnPorch        11.376065\n",
              "KitchenAbvGr      4.302254\n",
              "BsmtFinSF2        4.146034\n",
              "EnclosedPorch     4.003891\n",
              "ScreenPorch       3.946694\n",
              "BsmtHalfBath      3.931343\n",
              "MasVnrArea        2.611549\n",
              "OpenPorchSF       2.535114\n",
              "WoodDeckSF        1.842433\n",
              "LotFrontage       1.645574\n",
              "1stFlrSF          1.469604\n",
              "BsmtFinSF1        1.425233\n",
              "MSSubClass        1.375457\n",
              "GrLivArea         1.269358\n",
              "TotalBsmtSF       1.162484\n",
              "BsmtUnfSF         0.919508\n",
              "2ndFlrSF          0.861675\n",
              "TotRmsAbvGrd      0.758367\n",
              "Fireplaces        0.733495\n",
              "HalfBath          0.694566\n",
              "BsmtFullBath      0.623955\n",
              "OverallCond       0.570312\n",
              "BedroomAbvGr      0.326324\n",
              "GarageArea        0.241218\n",
              "OverallQual       0.197110\n",
              "MoSold            0.195884\n",
              "FullBath          0.167606\n",
              "YrSold            0.132399\n",
              "Id                0.000000\n",
              "GarageCars       -0.218298\n",
              "GarageYrBlt      -0.392790\n",
              "YearRemodAdd     -0.451020\n",
              "YearBuilt        -0.599806\n",
              "dtype: float64"
            ]
          },
          "metadata": {
            "tags": []
          },
          "execution_count": 19
        }
      ]
    },
    {
      "cell_type": "code",
      "metadata": {
        "id": "eZxfgS1eTW7k",
        "colab_type": "code",
        "outputId": "bf3b1a52-b0a8-41df-aa5b-084bcb56f75f",
        "colab": {
          "base_uri": "https://localhost:8080/",
          "height": 136
        }
      },
      "source": [
        "skewness = skewness[abs(skewness)>0.5]\n",
        "skewness.index"
      ],
      "execution_count": 20,
      "outputs": [
        {
          "output_type": "execute_result",
          "data": {
            "text/plain": [
              "Index(['MSSubClass', 'LotFrontage', 'LotArea', 'OverallCond', 'YearBuilt',\n",
              "       'MasVnrArea', 'BsmtFinSF1', 'BsmtFinSF2', 'BsmtUnfSF', 'TotalBsmtSF',\n",
              "       '1stFlrSF', '2ndFlrSF', 'LowQualFinSF', 'GrLivArea', 'BsmtFullBath',\n",
              "       'BsmtHalfBath', 'HalfBath', 'KitchenAbvGr', 'TotRmsAbvGrd',\n",
              "       'Fireplaces', 'WoodDeckSF', 'OpenPorchSF', 'EnclosedPorch', '3SsnPorch',\n",
              "       'ScreenPorch', 'PoolArea', 'MiscVal'],\n",
              "      dtype='object')"
            ]
          },
          "metadata": {
            "tags": []
          },
          "execution_count": 20
        }
      ]
    },
    {
      "cell_type": "code",
      "metadata": {
        "id": "lszgbm6MTW7q",
        "colab_type": "code",
        "outputId": "337c7c6e-a716-4ef7-d5eb-1a3e33b9774b",
        "colab": {
          "base_uri": "https://localhost:8080/",
          "height": 136
        }
      },
      "source": [
        "skew_features = train[skewness.index]\n",
        "skew_features.columns"
      ],
      "execution_count": 21,
      "outputs": [
        {
          "output_type": "execute_result",
          "data": {
            "text/plain": [
              "Index(['MSSubClass', 'LotFrontage', 'LotArea', 'OverallCond', 'YearBuilt',\n",
              "       'MasVnrArea', 'BsmtFinSF1', 'BsmtFinSF2', 'BsmtUnfSF', 'TotalBsmtSF',\n",
              "       '1stFlrSF', '2ndFlrSF', 'LowQualFinSF', 'GrLivArea', 'BsmtFullBath',\n",
              "       'BsmtHalfBath', 'HalfBath', 'KitchenAbvGr', 'TotRmsAbvGrd',\n",
              "       'Fireplaces', 'WoodDeckSF', 'OpenPorchSF', 'EnclosedPorch', '3SsnPorch',\n",
              "       'ScreenPorch', 'PoolArea', 'MiscVal'],\n",
              "      dtype='object')"
            ]
          },
          "metadata": {
            "tags": []
          },
          "execution_count": 21
        }
      ]
    },
    {
      "cell_type": "code",
      "metadata": {
        "id": "WbgEjqkjTW7x",
        "colab_type": "code",
        "colab": {}
      },
      "source": [
        "#resolvese a skewness de uma feature aplicando uma transformação logaritimica\n",
        "skew_features = np.log1p(skew_features)\n"
      ],
      "execution_count": 0,
      "outputs": []
    },
    {
      "cell_type": "code",
      "metadata": {
        "id": "8k_XU329TW73",
        "colab_type": "code",
        "outputId": "2d2bb87a-bab0-4f79-8c4d-573c83cd93e0",
        "colab": {
          "base_uri": "https://localhost:8080/",
          "height": 34
        }
      },
      "source": [
        "Categorycal.shape"
      ],
      "execution_count": 23,
      "outputs": [
        {
          "output_type": "execute_result",
          "data": {
            "text/plain": [
              "(2919, 43)"
            ]
          },
          "metadata": {
            "tags": []
          },
          "execution_count": 23
        }
      ]
    },
    {
      "cell_type": "code",
      "metadata": {
        "id": "Nqq-dxvATW7-",
        "colab_type": "code",
        "outputId": "c7011d6b-273c-4d36-c063-28bac682bd24",
        "colab": {
          "base_uri": "https://localhost:8080/",
          "height": 34
        }
      },
      "source": [
        "#transformamos as colunas categoricas em dados numericos atraves do one hot enconding\n",
        "Categorycal = pd.get_dummies(Categorycal)\n",
        "Categorycal.shape\n"
      ],
      "execution_count": 24,
      "outputs": [
        {
          "output_type": "execute_result",
          "data": {
            "text/plain": [
              "(2919, 252)"
            ]
          },
          "metadata": {
            "tags": []
          },
          "execution_count": 24
        }
      ]
    },
    {
      "cell_type": "code",
      "metadata": {
        "id": "Z93LP6KATW8F",
        "colab_type": "code",
        "outputId": "648d001b-555a-412d-a38b-12e374c0fac8",
        "colab": {
          "base_uri": "https://localhost:8080/",
          "height": 270
        }
      },
      "source": [
        "Categorycal.head()"
      ],
      "execution_count": 25,
      "outputs": [
        {
          "output_type": "execute_result",
          "data": {
            "text/html": [
              "<div>\n",
              "<style scoped>\n",
              "    .dataframe tbody tr th:only-of-type {\n",
              "        vertical-align: middle;\n",
              "    }\n",
              "\n",
              "    .dataframe tbody tr th {\n",
              "        vertical-align: top;\n",
              "    }\n",
              "\n",
              "    .dataframe thead th {\n",
              "        text-align: right;\n",
              "    }\n",
              "</style>\n",
              "<table border=\"1\" class=\"dataframe\">\n",
              "  <thead>\n",
              "    <tr style=\"text-align: right;\">\n",
              "      <th></th>\n",
              "      <th>MSZoning_C (all)</th>\n",
              "      <th>MSZoning_FV</th>\n",
              "      <th>MSZoning_RH</th>\n",
              "      <th>MSZoning_RL</th>\n",
              "      <th>MSZoning_RM</th>\n",
              "      <th>Street_Grvl</th>\n",
              "      <th>Street_Pave</th>\n",
              "      <th>Alley_Grvl</th>\n",
              "      <th>Alley_Pave</th>\n",
              "      <th>LotShape_IR1</th>\n",
              "      <th>LotShape_IR2</th>\n",
              "      <th>LotShape_IR3</th>\n",
              "      <th>LotShape_Reg</th>\n",
              "      <th>LandContour_Bnk</th>\n",
              "      <th>LandContour_HLS</th>\n",
              "      <th>LandContour_Low</th>\n",
              "      <th>LandContour_Lvl</th>\n",
              "      <th>Utilities_AllPub</th>\n",
              "      <th>Utilities_NoSeWa</th>\n",
              "      <th>LotConfig_Corner</th>\n",
              "      <th>LotConfig_CulDSac</th>\n",
              "      <th>LotConfig_FR2</th>\n",
              "      <th>LotConfig_FR3</th>\n",
              "      <th>LotConfig_Inside</th>\n",
              "      <th>LandSlope_Gtl</th>\n",
              "      <th>LandSlope_Mod</th>\n",
              "      <th>LandSlope_Sev</th>\n",
              "      <th>Neighborhood_Blmngtn</th>\n",
              "      <th>Neighborhood_Blueste</th>\n",
              "      <th>Neighborhood_BrDale</th>\n",
              "      <th>Neighborhood_BrkSide</th>\n",
              "      <th>Neighborhood_ClearCr</th>\n",
              "      <th>Neighborhood_CollgCr</th>\n",
              "      <th>Neighborhood_Crawfor</th>\n",
              "      <th>Neighborhood_Edwards</th>\n",
              "      <th>Neighborhood_Gilbert</th>\n",
              "      <th>Neighborhood_IDOTRR</th>\n",
              "      <th>Neighborhood_MeadowV</th>\n",
              "      <th>Neighborhood_Mitchel</th>\n",
              "      <th>Neighborhood_NAmes</th>\n",
              "      <th>...</th>\n",
              "      <th>GarageFinish_Unf</th>\n",
              "      <th>GarageQual_Ex</th>\n",
              "      <th>GarageQual_Fa</th>\n",
              "      <th>GarageQual_Gd</th>\n",
              "      <th>GarageQual_Po</th>\n",
              "      <th>GarageQual_TA</th>\n",
              "      <th>GarageCond_Ex</th>\n",
              "      <th>GarageCond_Fa</th>\n",
              "      <th>GarageCond_Gd</th>\n",
              "      <th>GarageCond_Po</th>\n",
              "      <th>GarageCond_TA</th>\n",
              "      <th>PavedDrive_N</th>\n",
              "      <th>PavedDrive_P</th>\n",
              "      <th>PavedDrive_Y</th>\n",
              "      <th>PoolQC_Ex</th>\n",
              "      <th>PoolQC_Fa</th>\n",
              "      <th>PoolQC_Gd</th>\n",
              "      <th>Fence_GdPrv</th>\n",
              "      <th>Fence_GdWo</th>\n",
              "      <th>Fence_MnPrv</th>\n",
              "      <th>Fence_MnWw</th>\n",
              "      <th>MiscFeature_Gar2</th>\n",
              "      <th>MiscFeature_Othr</th>\n",
              "      <th>MiscFeature_Shed</th>\n",
              "      <th>MiscFeature_TenC</th>\n",
              "      <th>SaleType_COD</th>\n",
              "      <th>SaleType_CWD</th>\n",
              "      <th>SaleType_Con</th>\n",
              "      <th>SaleType_ConLD</th>\n",
              "      <th>SaleType_ConLI</th>\n",
              "      <th>SaleType_ConLw</th>\n",
              "      <th>SaleType_New</th>\n",
              "      <th>SaleType_Oth</th>\n",
              "      <th>SaleType_WD</th>\n",
              "      <th>SaleCondition_Abnorml</th>\n",
              "      <th>SaleCondition_AdjLand</th>\n",
              "      <th>SaleCondition_Alloca</th>\n",
              "      <th>SaleCondition_Family</th>\n",
              "      <th>SaleCondition_Normal</th>\n",
              "      <th>SaleCondition_Partial</th>\n",
              "    </tr>\n",
              "  </thead>\n",
              "  <tbody>\n",
              "    <tr>\n",
              "      <th>0</th>\n",
              "      <td>0</td>\n",
              "      <td>0</td>\n",
              "      <td>0</td>\n",
              "      <td>1</td>\n",
              "      <td>0</td>\n",
              "      <td>0</td>\n",
              "      <td>1</td>\n",
              "      <td>0</td>\n",
              "      <td>0</td>\n",
              "      <td>0</td>\n",
              "      <td>0</td>\n",
              "      <td>0</td>\n",
              "      <td>1</td>\n",
              "      <td>0</td>\n",
              "      <td>0</td>\n",
              "      <td>0</td>\n",
              "      <td>1</td>\n",
              "      <td>1</td>\n",
              "      <td>0</td>\n",
              "      <td>0</td>\n",
              "      <td>0</td>\n",
              "      <td>0</td>\n",
              "      <td>0</td>\n",
              "      <td>1</td>\n",
              "      <td>1</td>\n",
              "      <td>0</td>\n",
              "      <td>0</td>\n",
              "      <td>0</td>\n",
              "      <td>0</td>\n",
              "      <td>0</td>\n",
              "      <td>0</td>\n",
              "      <td>0</td>\n",
              "      <td>1</td>\n",
              "      <td>0</td>\n",
              "      <td>0</td>\n",
              "      <td>0</td>\n",
              "      <td>0</td>\n",
              "      <td>0</td>\n",
              "      <td>0</td>\n",
              "      <td>0</td>\n",
              "      <td>...</td>\n",
              "      <td>0</td>\n",
              "      <td>0</td>\n",
              "      <td>0</td>\n",
              "      <td>0</td>\n",
              "      <td>0</td>\n",
              "      <td>1</td>\n",
              "      <td>0</td>\n",
              "      <td>0</td>\n",
              "      <td>0</td>\n",
              "      <td>0</td>\n",
              "      <td>1</td>\n",
              "      <td>0</td>\n",
              "      <td>0</td>\n",
              "      <td>1</td>\n",
              "      <td>0</td>\n",
              "      <td>0</td>\n",
              "      <td>0</td>\n",
              "      <td>0</td>\n",
              "      <td>0</td>\n",
              "      <td>0</td>\n",
              "      <td>0</td>\n",
              "      <td>0</td>\n",
              "      <td>0</td>\n",
              "      <td>0</td>\n",
              "      <td>0</td>\n",
              "      <td>0</td>\n",
              "      <td>0</td>\n",
              "      <td>0</td>\n",
              "      <td>0</td>\n",
              "      <td>0</td>\n",
              "      <td>0</td>\n",
              "      <td>0</td>\n",
              "      <td>0</td>\n",
              "      <td>1</td>\n",
              "      <td>0</td>\n",
              "      <td>0</td>\n",
              "      <td>0</td>\n",
              "      <td>0</td>\n",
              "      <td>1</td>\n",
              "      <td>0</td>\n",
              "    </tr>\n",
              "    <tr>\n",
              "      <th>1</th>\n",
              "      <td>0</td>\n",
              "      <td>0</td>\n",
              "      <td>0</td>\n",
              "      <td>1</td>\n",
              "      <td>0</td>\n",
              "      <td>0</td>\n",
              "      <td>1</td>\n",
              "      <td>0</td>\n",
              "      <td>0</td>\n",
              "      <td>0</td>\n",
              "      <td>0</td>\n",
              "      <td>0</td>\n",
              "      <td>1</td>\n",
              "      <td>0</td>\n",
              "      <td>0</td>\n",
              "      <td>0</td>\n",
              "      <td>1</td>\n",
              "      <td>1</td>\n",
              "      <td>0</td>\n",
              "      <td>0</td>\n",
              "      <td>0</td>\n",
              "      <td>1</td>\n",
              "      <td>0</td>\n",
              "      <td>0</td>\n",
              "      <td>1</td>\n",
              "      <td>0</td>\n",
              "      <td>0</td>\n",
              "      <td>0</td>\n",
              "      <td>0</td>\n",
              "      <td>0</td>\n",
              "      <td>0</td>\n",
              "      <td>0</td>\n",
              "      <td>0</td>\n",
              "      <td>0</td>\n",
              "      <td>0</td>\n",
              "      <td>0</td>\n",
              "      <td>0</td>\n",
              "      <td>0</td>\n",
              "      <td>0</td>\n",
              "      <td>0</td>\n",
              "      <td>...</td>\n",
              "      <td>0</td>\n",
              "      <td>0</td>\n",
              "      <td>0</td>\n",
              "      <td>0</td>\n",
              "      <td>0</td>\n",
              "      <td>1</td>\n",
              "      <td>0</td>\n",
              "      <td>0</td>\n",
              "      <td>0</td>\n",
              "      <td>0</td>\n",
              "      <td>1</td>\n",
              "      <td>0</td>\n",
              "      <td>0</td>\n",
              "      <td>1</td>\n",
              "      <td>0</td>\n",
              "      <td>0</td>\n",
              "      <td>0</td>\n",
              "      <td>0</td>\n",
              "      <td>0</td>\n",
              "      <td>0</td>\n",
              "      <td>0</td>\n",
              "      <td>0</td>\n",
              "      <td>0</td>\n",
              "      <td>0</td>\n",
              "      <td>0</td>\n",
              "      <td>0</td>\n",
              "      <td>0</td>\n",
              "      <td>0</td>\n",
              "      <td>0</td>\n",
              "      <td>0</td>\n",
              "      <td>0</td>\n",
              "      <td>0</td>\n",
              "      <td>0</td>\n",
              "      <td>1</td>\n",
              "      <td>0</td>\n",
              "      <td>0</td>\n",
              "      <td>0</td>\n",
              "      <td>0</td>\n",
              "      <td>1</td>\n",
              "      <td>0</td>\n",
              "    </tr>\n",
              "    <tr>\n",
              "      <th>2</th>\n",
              "      <td>0</td>\n",
              "      <td>0</td>\n",
              "      <td>0</td>\n",
              "      <td>1</td>\n",
              "      <td>0</td>\n",
              "      <td>0</td>\n",
              "      <td>1</td>\n",
              "      <td>0</td>\n",
              "      <td>0</td>\n",
              "      <td>1</td>\n",
              "      <td>0</td>\n",
              "      <td>0</td>\n",
              "      <td>0</td>\n",
              "      <td>0</td>\n",
              "      <td>0</td>\n",
              "      <td>0</td>\n",
              "      <td>1</td>\n",
              "      <td>1</td>\n",
              "      <td>0</td>\n",
              "      <td>0</td>\n",
              "      <td>0</td>\n",
              "      <td>0</td>\n",
              "      <td>0</td>\n",
              "      <td>1</td>\n",
              "      <td>1</td>\n",
              "      <td>0</td>\n",
              "      <td>0</td>\n",
              "      <td>0</td>\n",
              "      <td>0</td>\n",
              "      <td>0</td>\n",
              "      <td>0</td>\n",
              "      <td>0</td>\n",
              "      <td>1</td>\n",
              "      <td>0</td>\n",
              "      <td>0</td>\n",
              "      <td>0</td>\n",
              "      <td>0</td>\n",
              "      <td>0</td>\n",
              "      <td>0</td>\n",
              "      <td>0</td>\n",
              "      <td>...</td>\n",
              "      <td>0</td>\n",
              "      <td>0</td>\n",
              "      <td>0</td>\n",
              "      <td>0</td>\n",
              "      <td>0</td>\n",
              "      <td>1</td>\n",
              "      <td>0</td>\n",
              "      <td>0</td>\n",
              "      <td>0</td>\n",
              "      <td>0</td>\n",
              "      <td>1</td>\n",
              "      <td>0</td>\n",
              "      <td>0</td>\n",
              "      <td>1</td>\n",
              "      <td>0</td>\n",
              "      <td>0</td>\n",
              "      <td>0</td>\n",
              "      <td>0</td>\n",
              "      <td>0</td>\n",
              "      <td>0</td>\n",
              "      <td>0</td>\n",
              "      <td>0</td>\n",
              "      <td>0</td>\n",
              "      <td>0</td>\n",
              "      <td>0</td>\n",
              "      <td>0</td>\n",
              "      <td>0</td>\n",
              "      <td>0</td>\n",
              "      <td>0</td>\n",
              "      <td>0</td>\n",
              "      <td>0</td>\n",
              "      <td>0</td>\n",
              "      <td>0</td>\n",
              "      <td>1</td>\n",
              "      <td>0</td>\n",
              "      <td>0</td>\n",
              "      <td>0</td>\n",
              "      <td>0</td>\n",
              "      <td>1</td>\n",
              "      <td>0</td>\n",
              "    </tr>\n",
              "    <tr>\n",
              "      <th>3</th>\n",
              "      <td>0</td>\n",
              "      <td>0</td>\n",
              "      <td>0</td>\n",
              "      <td>1</td>\n",
              "      <td>0</td>\n",
              "      <td>0</td>\n",
              "      <td>1</td>\n",
              "      <td>0</td>\n",
              "      <td>0</td>\n",
              "      <td>1</td>\n",
              "      <td>0</td>\n",
              "      <td>0</td>\n",
              "      <td>0</td>\n",
              "      <td>0</td>\n",
              "      <td>0</td>\n",
              "      <td>0</td>\n",
              "      <td>1</td>\n",
              "      <td>1</td>\n",
              "      <td>0</td>\n",
              "      <td>1</td>\n",
              "      <td>0</td>\n",
              "      <td>0</td>\n",
              "      <td>0</td>\n",
              "      <td>0</td>\n",
              "      <td>1</td>\n",
              "      <td>0</td>\n",
              "      <td>0</td>\n",
              "      <td>0</td>\n",
              "      <td>0</td>\n",
              "      <td>0</td>\n",
              "      <td>0</td>\n",
              "      <td>0</td>\n",
              "      <td>0</td>\n",
              "      <td>1</td>\n",
              "      <td>0</td>\n",
              "      <td>0</td>\n",
              "      <td>0</td>\n",
              "      <td>0</td>\n",
              "      <td>0</td>\n",
              "      <td>0</td>\n",
              "      <td>...</td>\n",
              "      <td>1</td>\n",
              "      <td>0</td>\n",
              "      <td>0</td>\n",
              "      <td>0</td>\n",
              "      <td>0</td>\n",
              "      <td>1</td>\n",
              "      <td>0</td>\n",
              "      <td>0</td>\n",
              "      <td>0</td>\n",
              "      <td>0</td>\n",
              "      <td>1</td>\n",
              "      <td>0</td>\n",
              "      <td>0</td>\n",
              "      <td>1</td>\n",
              "      <td>0</td>\n",
              "      <td>0</td>\n",
              "      <td>0</td>\n",
              "      <td>0</td>\n",
              "      <td>0</td>\n",
              "      <td>0</td>\n",
              "      <td>0</td>\n",
              "      <td>0</td>\n",
              "      <td>0</td>\n",
              "      <td>0</td>\n",
              "      <td>0</td>\n",
              "      <td>0</td>\n",
              "      <td>0</td>\n",
              "      <td>0</td>\n",
              "      <td>0</td>\n",
              "      <td>0</td>\n",
              "      <td>0</td>\n",
              "      <td>0</td>\n",
              "      <td>0</td>\n",
              "      <td>1</td>\n",
              "      <td>1</td>\n",
              "      <td>0</td>\n",
              "      <td>0</td>\n",
              "      <td>0</td>\n",
              "      <td>0</td>\n",
              "      <td>0</td>\n",
              "    </tr>\n",
              "    <tr>\n",
              "      <th>4</th>\n",
              "      <td>0</td>\n",
              "      <td>0</td>\n",
              "      <td>0</td>\n",
              "      <td>1</td>\n",
              "      <td>0</td>\n",
              "      <td>0</td>\n",
              "      <td>1</td>\n",
              "      <td>0</td>\n",
              "      <td>0</td>\n",
              "      <td>1</td>\n",
              "      <td>0</td>\n",
              "      <td>0</td>\n",
              "      <td>0</td>\n",
              "      <td>0</td>\n",
              "      <td>0</td>\n",
              "      <td>0</td>\n",
              "      <td>1</td>\n",
              "      <td>1</td>\n",
              "      <td>0</td>\n",
              "      <td>0</td>\n",
              "      <td>0</td>\n",
              "      <td>1</td>\n",
              "      <td>0</td>\n",
              "      <td>0</td>\n",
              "      <td>1</td>\n",
              "      <td>0</td>\n",
              "      <td>0</td>\n",
              "      <td>0</td>\n",
              "      <td>0</td>\n",
              "      <td>0</td>\n",
              "      <td>0</td>\n",
              "      <td>0</td>\n",
              "      <td>0</td>\n",
              "      <td>0</td>\n",
              "      <td>0</td>\n",
              "      <td>0</td>\n",
              "      <td>0</td>\n",
              "      <td>0</td>\n",
              "      <td>0</td>\n",
              "      <td>0</td>\n",
              "      <td>...</td>\n",
              "      <td>0</td>\n",
              "      <td>0</td>\n",
              "      <td>0</td>\n",
              "      <td>0</td>\n",
              "      <td>0</td>\n",
              "      <td>1</td>\n",
              "      <td>0</td>\n",
              "      <td>0</td>\n",
              "      <td>0</td>\n",
              "      <td>0</td>\n",
              "      <td>1</td>\n",
              "      <td>0</td>\n",
              "      <td>0</td>\n",
              "      <td>1</td>\n",
              "      <td>0</td>\n",
              "      <td>0</td>\n",
              "      <td>0</td>\n",
              "      <td>0</td>\n",
              "      <td>0</td>\n",
              "      <td>0</td>\n",
              "      <td>0</td>\n",
              "      <td>0</td>\n",
              "      <td>0</td>\n",
              "      <td>0</td>\n",
              "      <td>0</td>\n",
              "      <td>0</td>\n",
              "      <td>0</td>\n",
              "      <td>0</td>\n",
              "      <td>0</td>\n",
              "      <td>0</td>\n",
              "      <td>0</td>\n",
              "      <td>0</td>\n",
              "      <td>0</td>\n",
              "      <td>1</td>\n",
              "      <td>0</td>\n",
              "      <td>0</td>\n",
              "      <td>0</td>\n",
              "      <td>0</td>\n",
              "      <td>1</td>\n",
              "      <td>0</td>\n",
              "    </tr>\n",
              "  </tbody>\n",
              "</table>\n",
              "<p>5 rows × 252 columns</p>\n",
              "</div>"
            ],
            "text/plain": [
              "   MSZoning_C (all)  MSZoning_FV  ...  SaleCondition_Normal  SaleCondition_Partial\n",
              "0                 0            0  ...                     1                      0\n",
              "1                 0            0  ...                     1                      0\n",
              "2                 0            0  ...                     1                      0\n",
              "3                 0            0  ...                     0                      0\n",
              "4                 0            0  ...                     1                      0\n",
              "\n",
              "[5 rows x 252 columns]"
            ]
          },
          "metadata": {
            "tags": []
          },
          "execution_count": 25
        }
      ]
    },
    {
      "cell_type": "code",
      "metadata": {
        "id": "7iNwldFFTW8L",
        "colab_type": "code",
        "colab": {}
      },
      "source": [
        "full = pd.concat([Categorycal, Numerical],axis=1)"
      ],
      "execution_count": 0,
      "outputs": []
    },
    {
      "cell_type": "code",
      "metadata": {
        "id": "apF5P77tTW8V",
        "colab_type": "code",
        "outputId": "4fe32538-8e37-42e9-c384-cdafd0be8713",
        "colab": {
          "base_uri": "https://localhost:8080/",
          "height": 34
        }
      },
      "source": [
        "#é possivel notar que haviam 43 colunas categoricas que agora foram transforma em 289 novas colunas com dados numericos\n",
        "#1 ou 0 para cada possibilidade\n",
        "full.shape"
      ],
      "execution_count": 27,
      "outputs": [
        {
          "output_type": "execute_result",
          "data": {
            "text/plain": [
              "(2919, 289)"
            ]
          },
          "metadata": {
            "tags": []
          },
          "execution_count": 27
        }
      ]
    },
    {
      "cell_type": "code",
      "metadata": {
        "id": "QQpKbetFTW8f",
        "colab_type": "code",
        "colab": {}
      },
      "source": [
        "\n",
        "train = full.iloc[:train_index]\n",
        "test = full.iloc[:test_index]"
      ],
      "execution_count": 0,
      "outputs": []
    },
    {
      "cell_type": "code",
      "metadata": {
        "id": "hb1VccwITW8m",
        "colab_type": "code",
        "colab": {}
      },
      "source": [
        ""
      ],
      "execution_count": 0,
      "outputs": []
    },
    {
      "cell_type": "code",
      "metadata": {
        "id": "zwqRr0gaTW8s",
        "colab_type": "code",
        "colab": {}
      },
      "source": [
        "\n",
        "x_train, x_test, y_train,y_test = train_test_split(train,y,test_size=0.3,random_state=0)"
      ],
      "execution_count": 0,
      "outputs": []
    },
    {
      "cell_type": "code",
      "metadata": {
        "id": "J9K_bTg7TW8z",
        "colab_type": "code",
        "outputId": "ec8a2a0a-659a-4b8d-c750-f5e70f112299",
        "colab": {
          "base_uri": "https://localhost:8080/",
          "height": 34
        }
      },
      "source": [
        "x_train.shape, x_test.shape, y_train.shape, y_test.shape"
      ],
      "execution_count": 30,
      "outputs": [
        {
          "output_type": "execute_result",
          "data": {
            "text/plain": [
              "((1022, 289), (438, 289), (1022,), (438,))"
            ]
          },
          "metadata": {
            "tags": []
          },
          "execution_count": 30
        }
      ]
    },
    {
      "cell_type": "code",
      "metadata": {
        "id": "ULFEHBBdTW87",
        "colab_type": "code",
        "colab": {}
      },
      "source": [
        "n_folds = 5\n",
        "scorer = make_scorer(mean_squared_error,greater_is_better = False)\n",
        "\n",
        "def rmse_CV_train(model):\n",
        "    kf = KFold(n_folds,shuffle=True,random_state=42).get_n_splits(train.values)\n",
        "    rmse = np.sqrt(-cross_val_score(model,x_train,y_train,scoring =\"neg_mean_squared_error\",cv=kf))\n",
        "    return (rmse)\n",
        "def rmse_CV_test(model):\n",
        "    kf = KFold(n_folds,shuffle=True,random_state=42).get_n_splits(train.values)\n",
        "    rmse = np.sqrt(-cross_val_score(model,x_test,y_test,scoring =\"neg_mean_squared_error\",cv=kf))\n",
        "    return (rmse)"
      ],
      "execution_count": 0,
      "outputs": []
    },
    {
      "cell_type": "code",
      "metadata": {
        "id": "Zm1cBkZSTW9B",
        "colab_type": "code",
        "outputId": "8b3ee074-834f-4936-c845-84c518f63235",
        "colab": {
          "base_uri": "https://localhost:8080/",
          "height": 51
        }
      },
      "source": [
        "#regressão linear sem regularização\n",
        "\n",
        "\n",
        "lr = LinearRegression()\n",
        "lr.fit(x_train,y_train)\n",
        "test_pre = lr.predict(x_test)\n",
        "train_pre = lr.predict(x_train)\n",
        "print('rmse on train',rmse_CV_train(lr).mean())\n",
        "print('rmse on train',rmse_CV_test(lr).mean())"
      ],
      "execution_count": 32,
      "outputs": [
        {
          "output_type": "stream",
          "text": [
            "rmse on train 166267339.48850074\n",
            "rmse on train 57236.758019343004\n"
          ],
          "name": "stdout"
        }
      ]
    },
    {
      "cell_type": "code",
      "metadata": {
        "id": "9_g157F-TW9J",
        "colab_type": "code",
        "outputId": "778563b2-2424-498c-c204-aec8edd4916b",
        "colab": {
          "base_uri": "https://localhost:8080/",
          "height": 301
        }
      },
      "source": [
        "#plot between predicted values and residuals\n",
        "plt.scatter(train_pre, train_pre - y_train, c = \"blue\",  label = \"Training data\")\n",
        "plt.scatter(test_pre,test_pre - y_test, c = \"black\",  label = \"Validation data\")\n",
        "plt.title(\"Linear regression\")\n",
        "plt.xlabel(\"Predicted values\")\n",
        "plt.ylabel(\"Residuals\")\n",
        "plt.legend(loc = \"upper left\")\n",
        "plt.hlines(y = 0, xmin = 10.5, xmax = 13.5, color = \"red\")\n",
        "plt.show()"
      ],
      "execution_count": 33,
      "outputs": [
        {
          "output_type": "display_data",
          "data": {
            "image/png": "[encoded data removed]",
            "text/plain": [
              "<Figure size 432x288 with 1 Axes>"
            ]
          },
          "metadata": {
            "tags": []
          }
        }
      ]
    },
    {
      "cell_type": "code",
      "metadata": {
        "id": "BxbRU6pKTW9R",
        "colab_type": "code",
        "outputId": "1b97d101-fafb-4368-c6db-a9ba034a9402",
        "colab": {
          "base_uri": "https://localhost:8080/",
          "height": 68
        }
      },
      "source": [
        "\n",
        "from sklearn.metrics import mean_absolute_error, mean_squared_error\n",
        "\n",
        "print(\"Mean Absolute Error (MAE)\", mean_absolute_error(y_test, test_pre))\n",
        "\n",
        "print(\"Mean Squared Error (MSE)\", mean_squared_error(y_test, test_pre))\n",
        "\n",
        "print(\"Root Mean Squared Error (RMSE)\", np.sqrt(mean_squared_error(y_test, test_pre)))\n"
      ],
      "execution_count": 34,
      "outputs": [
        {
          "output_type": "stream",
          "text": [
            "Mean Absolute Error (MAE) 22286.78827439369\n",
            "Mean Squared Error (MSE) 2714941984.321785\n",
            "Root Mean Squared Error (RMSE) 52105.10516563406\n"
          ],
          "name": "stdout"
        }
      ]
    },
    {
      "cell_type": "code",
      "metadata": {
        "id": "UfFO3RXgTW9Y",
        "colab_type": "code",
        "colab": {}
      },
      "source": [
        "#regressão linear sem regularização\n",
        "\n",
        "\n",
        "\n",
        "\n",
        "lr = LinearRegression()\n",
        "mod = lr.fit(train, y)\n",
        "\n",
        "result = mod.predict(test)\n"
      ],
      "execution_count": 0,
      "outputs": []
    },
    {
      "cell_type": "code",
      "metadata": {
        "id": "EQVD4ehrTW9g",
        "colab_type": "code",
        "outputId": "bfecfb59-c574-4323-f8af-046b36e08a11",
        "colab": {
          "base_uri": "https://localhost:8080/",
          "height": 1000
        }
      },
      "source": [
        "from sklearn.linear_model import Lasso\n",
        "from sklearn.preprocessing import StandardScaler\n",
        "\n",
        "\n",
        "scaler = StandardScaler()\n",
        "\n",
        "X_scaled = scaler.fit_transform(x_train)\n",
        "\n",
        "lasso_reg = Lasso()\n",
        "\n",
        "lasso_reg.fit(X_scaled, y_train)\n",
        "\n",
        "reg_coef = lasso_reg.coef_\n",
        "print(reg_coef)"
      ],
      "execution_count": 40,
      "outputs": [
        {
          "output_type": "stream",
          "text": [
            "[-2.51716470e+03  2.49738004e+03 -6.62988320e+02  1.71423843e+02\n",
            " -1.49574802e+02 -2.60363416e+03  8.73760326e-10  3.00148594e+02\n",
            "  8.50965674e+02 -6.33329710e+02  6.24530849e+02 -9.73258262e+01\n",
            "  0.00000000e+00  9.72778823e+02 -2.16035807e+02 -2.60034701e+03\n",
            "  0.00000000e+00  1.14452464e+03 -3.15440928e-10  2.98313028e+02\n",
            "  2.40904562e+03 -4.15841253e+02 -2.15515394e+02 -1.69449355e+02\n",
            "  3.93071436e+02  1.06605679e+03 -5.86791687e+03  1.98808482e+03\n",
            "  1.01826184e+03  3.23926297e+02  1.75834566e+03  1.68589158e+02\n",
            "  8.15304627e+00  4.78177907e+03 -2.09083183e+03 -3.09933001e+02\n",
            " -7.37442736e+02 -6.02253772e+02 -2.52101539e+03 -1.95086220e+03\n",
            "  1.61378066e+03 -1.64539211e+03  5.51490570e+03  3.28495667e+03\n",
            " -1.45237715e+03 -4.87017193e+02  1.43471607e+02  1.23941618e+03\n",
            " -5.73225703e+02  4.85742572e+03 -2.14265058e+02  1.17929467e+03\n",
            " -1.08954334e+03 -1.95941458e+03  1.59555966e+03 -4.89143879e+02\n",
            "  0.00000000e+00 -2.39877370e+03  6.95105681e+02 -5.19292329e+02\n",
            "  3.64837960e+02  1.79605533e+03  3.59506999e+03  5.39808375e+03\n",
            "  0.00000000e+00 -1.24868420e+04 -1.33759050e+03  0.00000000e+00\n",
            "  0.00000000e+00  4.03877574e+03  3.00697030e+02 -2.66686313e+02\n",
            " -3.66464440e+02 -0.00000000e+00 -5.45429443e+00  1.99735643e+03\n",
            "  4.99124206e+03 -2.64546313e+03 -4.52244208e+02 -2.62136411e+03\n",
            "  9.41308480e+02  5.24170545e+02 -5.52636032e+02 -5.40380939e+02\n",
            "  4.15026254e+02  0.00000000e+00  1.06856781e+03  4.67766751e+03\n",
            "  0.00000000e+00  0.00000000e+00  0.00000000e+00  2.55269165e+03\n",
            " -5.17060692e+02 -2.38517404e+01 -7.78344891e+02  2.92579771e+03\n",
            "  1.66589054e+03 -7.86755632e+02 -5.87148015e+02  2.54365963e+03\n",
            " -2.51794508e+02 -3.81664068e+03  5.60770027e+02  1.38785549e+02\n",
            " -1.51530534e+03  3.66591234e+02  3.29166081e+02  8.46203482e+02\n",
            "  9.44497024e+01 -2.30749571e+03  1.29591482e+02 -1.08795873e+03\n",
            " -8.36733853e+01 -1.81302823e+02 -1.23477658e+02 -9.11874586e+01\n",
            "  4.70884568e+03 -1.05896830e+03 -5.76433036e+02  9.45785010e+02\n",
            " -4.63743763e+02 -2.07485445e+03 -9.18942399e+02  7.39331417e+02\n",
            "  0.00000000e+00  1.54632605e+03 -6.80084960e+02  1.49187574e+02\n",
            "  2.85455583e+03  5.53541227e+03  4.72514677e+03  3.83883621e+03\n",
            "  7.90748869e+02 -3.35912702e+02  0.00000000e+00  1.65944869e+02\n",
            " -4.33140815e+02 -2.89552220e+01  3.74359170e+02  1.31911680e+02\n",
            " -1.74150917e+03 -0.00000000e+00  4.45144047e+02 -3.35119905e+03\n",
            "  7.05260155e+02  1.64213089e+02  1.85965346e+03 -2.93133752e+02\n",
            " -5.80230740e+03 -3.63483409e+03 -4.93327963e+03 -6.70077589e+03\n",
            "  2.59258145e+03 -7.64764613e+03 -9.35656387e+02  3.50001953e+03\n",
            " -2.08460213e+03 -3.63606847e+03 -1.59523453e+03 -5.87756940e+02\n",
            "  3.92290747e+02 -1.56051512e+03 -1.37821686e+03 -1.66327130e+03\n",
            "  1.98203548e+03  4.61076936e+02  6.76990299e+02  1.15615689e+03\n",
            "  1.77617434e+03  2.51453855e+03 -6.38153353e+02  5.82571610e+00\n",
            " -1.13308406e+03  3.83319399e+02 -1.22551108e+03  7.89918024e+02\n",
            "  5.78889864e+02  2.22021153e+02 -0.00000000e+00  2.12437091e+02\n",
            " -2.96138293e+02 -2.14976196e+02  5.44842501e-11 -3.13319423e+03\n",
            " -1.45093768e+03 -8.63927835e+02 -1.74111578e+03 -4.41697934e+03\n",
            "  5.77439717e+03  5.42859603e+02 -4.45441607e+02  0.00000000e+00\n",
            " -1.07333029e+03 -8.37454974e+02 -1.60895578e+03 -1.14530734e+03\n",
            " -1.78514750e+03  0.00000000e+00  1.23598047e+03  1.08010130e+03\n",
            " -5.58459704e+02 -2.54432024e+02  3.74848487e+02 -1.13029550e+02\n",
            " -1.50777017e+03 -1.64844006e+03 -3.99635498e+02  7.87031678e+01\n",
            "  4.13128834e+02 -1.76179981e+02 -7.72755188e+02 -7.46396581e+02\n",
            "  0.00000000e+00  4.98281577e+03 -1.46475797e+03 -2.06274678e+02\n",
            " -9.83983675e+02 -1.55689309e+03 -3.47729849e+03 -6.99646394e+02\n",
            " -1.25082397e+03 -1.29889503e+03 -4.88719614e+02  1.14237580e+02\n",
            " -5.95238897e+02 -0.00000000e+00 -5.03663885e+03  0.00000000e+00\n",
            " -1.81683835e+03 -1.86228816e+03 -1.75082161e+01 -6.00582459e+01\n",
            " -9.73595625e+02 -3.14072548e+03  1.13621120e+02  2.94989374e+01\n",
            "  0.00000000e+00  0.00000000e+00  2.38827779e+03  4.27401582e+02\n",
            "  2.75476033e+03 -9.88432475e+01 -1.70370880e+02  1.06895081e+04\n",
            " -2.86678101e+00 -4.19134547e+02  2.38184901e+02  1.00108220e+03\n",
            "  1.78876694e+03  1.80940945e+03  3.03417130e+03 -4.46082467e+03\n",
            " -1.60275706e+02 -1.30879249e+03  2.45330323e+03  9.57312448e+03\n",
            "  8.81989477e+03  5.62878473e+03  1.04209173e+04  2.77021656e+03\n",
            "  5.06126836e+03  1.01633485e+04  2.91797634e+03  5.12645810e+03\n",
            "  4.82726606e+03  1.44017813e+04  2.71213074e+04  2.42758662e+03\n",
            "  4.74281583e+03  1.42978777e+03  1.10144283e+03  2.88818594e+03\n",
            "  8.65510371e+02 -3.13165067e+03 -2.92151345e+03  1.50545727e+03\n",
            "  8.08338943e+02 -1.11059683e+03 -6.88884926e+02  6.57522049e+03\n",
            "  2.35500083e+03  1.59058292e+03  8.46965003e+02  1.89240852e+02\n",
            "  1.12607123e+03  5.16566875e+03  2.71050191e+03 -6.60659067e+02\n",
            " -4.37533944e+02]\n"
          ],
          "name": "stdout"
        },
        {
          "output_type": "stream",
          "text": [
            "/usr/local/lib/python3.6/dist-packages/sklearn/linear_model/_coordinate_descent.py:476: ConvergenceWarning: Objective did not converge. You might want to increase the number of iterations. Duality gap: 16722972892.998688, tolerance: 623395084.5784423\n",
            "  positive)\n"
          ],
          "name": "stderr"
        }
      ]
    },
    {
      "cell_type": "code",
      "metadata": {
        "id": "zLzUAdQlTW9n",
        "colab_type": "code",
        "colab": {}
      },
      "source": [
        "submission = pd.DataFrame({\"Id\": Id,\n",
        "                           \"SalePrice\":result\n",
        "                          })\n",
        "\n",
        "submission.to_csv('./submissionr.csv',index=False)"
      ],
      "execution_count": 0,
      "outputs": []
    },
    {
      "cell_type": "code",
      "metadata": {
        "id": "65hKH-zNTW9z",
        "colab_type": "code",
        "outputId": "ccf6e54c-8e6f-4f7d-fd7a-e6beabce04b9",
        "colab": {
          "base_uri": "https://localhost:8080/",
          "height": 204
        }
      },
      "source": [
        "sub =pd.read_csv(\"submissionr.csv\")\n",
        "sub.head()"
      ],
      "execution_count": 38,
      "outputs": [
        {
          "output_type": "execute_result",
          "data": {
            "text/html": [
              "<div>\n",
              "<style scoped>\n",
              "    .dataframe tbody tr th:only-of-type {\n",
              "        vertical-align: middle;\n",
              "    }\n",
              "\n",
              "    .dataframe tbody tr th {\n",
              "        vertical-align: top;\n",
              "    }\n",
              "\n",
              "    .dataframe thead th {\n",
              "        text-align: right;\n",
              "    }\n",
              "</style>\n",
              "<table border=\"1\" class=\"dataframe\">\n",
              "  <thead>\n",
              "    <tr style=\"text-align: right;\">\n",
              "      <th></th>\n",
              "      <th>Id</th>\n",
              "      <th>SalePrice</th>\n",
              "    </tr>\n",
              "  </thead>\n",
              "  <tbody>\n",
              "    <tr>\n",
              "      <th>0</th>\n",
              "      <td>1461</td>\n",
              "      <td>207798.682740</td>\n",
              "    </tr>\n",
              "    <tr>\n",
              "      <th>1</th>\n",
              "      <td>1462</td>\n",
              "      <td>204941.499713</td>\n",
              "    </tr>\n",
              "    <tr>\n",
              "      <th>2</th>\n",
              "      <td>1463</td>\n",
              "      <td>204818.112849</td>\n",
              "    </tr>\n",
              "    <tr>\n",
              "      <th>3</th>\n",
              "      <td>1464</td>\n",
              "      <td>164073.846719</td>\n",
              "    </tr>\n",
              "    <tr>\n",
              "      <th>4</th>\n",
              "      <td>1465</td>\n",
              "      <td>291132.817022</td>\n",
              "    </tr>\n",
              "  </tbody>\n",
              "</table>\n",
              "</div>"
            ],
            "text/plain": [
              "     Id      SalePrice\n",
              "0  1461  207798.682740\n",
              "1  1462  204941.499713\n",
              "2  1463  204818.112849\n",
              "3  1464  164073.846719\n",
              "4  1465  291132.817022"
            ]
          },
          "metadata": {
            "tags": []
          },
          "execution_count": 38
        }
      ]
    },
    {
      "cell_type": "code",
      "metadata": {
        "id": "MnPxM6CeTW97",
        "colab_type": "code",
        "colab": {}
      },
      "source": [
        ""
      ],
      "execution_count": 0,
      "outputs": []
    }
  ]
}